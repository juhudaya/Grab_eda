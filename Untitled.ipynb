{
 "cells": [
  {
   "cell_type": "code",
   "execution_count": 3,
   "metadata": {},
   "outputs": [
    {
     "data": {
      "text/html": [
       "        <script type=\"text/javascript\">\n",
       "        window.PlotlyConfig = {MathJaxConfig: 'local'};\n",
       "        if (window.MathJax) {MathJax.Hub.Config({SVG: {font: \"STIX-Web\"}});}\n",
       "        if (typeof require !== 'undefined') {\n",
       "        require.undef(\"plotly\");\n",
       "        requirejs.config({\n",
       "            paths: {\n",
       "                'plotly': ['https://cdn.plot.ly/plotly-2.9.0.min']\n",
       "            }\n",
       "        });\n",
       "        require(['plotly'], function(Plotly) {\n",
       "            window._Plotly = Plotly;\n",
       "        });\n",
       "        }\n",
       "        </script>\n",
       "        "
      ]
     },
     "metadata": {},
     "output_type": "display_data"
    }
   ],
   "source": [
    "import pandas as pd\n",
    "from wordcloud import WordCloud, STOPWORDS\n",
    "\n",
    "import seaborn as sns\n",
    "import matplotlib.pyplot as plt\n",
    "import numpy as np\n",
    "import plotly.express as px\n",
    "from plotly.subplots import make_subplots\n",
    "import plotly.figure_factory as ff\n",
    "import plotly.offline as offline\n",
    "import plotly.graph_objs as go\n",
    "offline.init_notebook_mode(connected = True)\n"
   ]
  },
  {
   "cell_type": "code",
   "execution_count": 4,
   "metadata": {},
   "outputs": [],
   "source": [
    "df= pd.read_csv('grab.csv', encoding=\"ISO-8859-1\")"
   ]
  },
  {
   "cell_type": "code",
   "execution_count": 5,
   "metadata": {},
   "outputs": [
    {
     "data": {
      "text/html": [
       "<div>\n",
       "<style scoped>\n",
       "    .dataframe tbody tr th:only-of-type {\n",
       "        vertical-align: middle;\n",
       "    }\n",
       "\n",
       "    .dataframe tbody tr th {\n",
       "        vertical-align: top;\n",
       "    }\n",
       "\n",
       "    .dataframe thead th {\n",
       "        text-align: right;\n",
       "    }\n",
       "</style>\n",
       "<table border=\"1\" class=\"dataframe\">\n",
       "  <thead>\n",
       "    <tr style=\"text-align: right;\">\n",
       "      <th></th>\n",
       "      <th>Unnamed: 0</th>\n",
       "      <th>nama_resto</th>\n",
       "      <th>kategori_resto</th>\n",
       "      <th>rating_resto</th>\n",
       "      <th>menu_resto</th>\n",
       "      <th>harga</th>\n",
       "    </tr>\n",
       "  </thead>\n",
       "  <tbody>\n",
       "    <tr>\n",
       "      <th>0</th>\n",
       "      <td>1</td>\n",
       "      <td>McDonald's - Cideng</td>\n",
       "      <td>Chicken,Fast Food</td>\n",
       "      <td>4.7</td>\n",
       "      <td>2xPaNas1 Ayam Lengkuas (Krispy) + 2x McFlurry ...</td>\n",
       "      <td>95000.0</td>\n",
       "    </tr>\n",
       "    <tr>\n",
       "      <th>1</th>\n",
       "      <td>2</td>\n",
       "      <td>McDonald's - Cideng</td>\n",
       "      <td>Chicken,Fast Food</td>\n",
       "      <td>4.7</td>\n",
       "      <td>2xPaNas1 Ayam Lengkuas (Spicy) + 2x McFlurry OREO</td>\n",
       "      <td>95000.0</td>\n",
       "    </tr>\n",
       "    <tr>\n",
       "      <th>2</th>\n",
       "      <td>3</td>\n",
       "      <td>McDonald's - Cideng</td>\n",
       "      <td>Chicken,Fast Food</td>\n",
       "      <td>4.7</td>\n",
       "      <td>PaMer 5 Ayam Lengkuas ALC (Krispy) + 3x Iced C...</td>\n",
       "      <td>150000.0</td>\n",
       "    </tr>\n",
       "    <tr>\n",
       "      <th>3</th>\n",
       "      <td>4</td>\n",
       "      <td>McDonald's - Cideng</td>\n",
       "      <td>Chicken,Fast Food</td>\n",
       "      <td>4.7</td>\n",
       "      <td>PaMer 5 Ayam Lengkuas ALC (Spicy) + 3x Iced Co...</td>\n",
       "      <td>150000.0</td>\n",
       "    </tr>\n",
       "    <tr>\n",
       "      <th>4</th>\n",
       "      <td>5</td>\n",
       "      <td>McDonald's - Cideng</td>\n",
       "      <td>Chicken,Fast Food</td>\n",
       "      <td>4.7</td>\n",
       "      <td>PaMer 5 Ayam Lengkuas ALC (Mix) + 3x Iced Coffee</td>\n",
       "      <td>150000.0</td>\n",
       "    </tr>\n",
       "    <tr>\n",
       "      <th>...</th>\n",
       "      <td>...</td>\n",
       "      <td>...</td>\n",
       "      <td>...</td>\n",
       "      <td>...</td>\n",
       "      <td>...</td>\n",
       "      <td>...</td>\n",
       "    </tr>\n",
       "    <tr>\n",
       "      <th>5844</th>\n",
       "      <td>5845</td>\n",
       "      <td>Kantin Bunda Masakan Padang - Pasar Baru</td>\n",
       "      <td>Padang,Breakfast</td>\n",
       "      <td>1.0</td>\n",
       "      <td>Nasi Telor Bulat</td>\n",
       "      <td>19000.0</td>\n",
       "    </tr>\n",
       "    <tr>\n",
       "      <th>5845</th>\n",
       "      <td>5846</td>\n",
       "      <td>Kantin Bunda Masakan Padang - Pasar Baru</td>\n",
       "      <td>Padang,Breakfast</td>\n",
       "      <td>1.0</td>\n",
       "      <td>Nasi Perkedel</td>\n",
       "      <td>12000.0</td>\n",
       "    </tr>\n",
       "    <tr>\n",
       "      <th>5846</th>\n",
       "      <td>5847</td>\n",
       "      <td>Kantin Bunda Masakan Padang - Pasar Baru</td>\n",
       "      <td>Padang,Breakfast</td>\n",
       "      <td>1.0</td>\n",
       "      <td>Nasi Lele Goreng</td>\n",
       "      <td>25000.0</td>\n",
       "    </tr>\n",
       "    <tr>\n",
       "      <th>5847</th>\n",
       "      <td>5848</td>\n",
       "      <td>Kantin Bunda Masakan Padang - Pasar Baru</td>\n",
       "      <td>Padang,Breakfast</td>\n",
       "      <td>1.0</td>\n",
       "      <td>Nasi Kembung goreng</td>\n",
       "      <td>29000.0</td>\n",
       "    </tr>\n",
       "    <tr>\n",
       "      <th>5848</th>\n",
       "      <td>5849</td>\n",
       "      <td>Kantin Bunda Masakan Padang - Pasar Baru</td>\n",
       "      <td>Padang,Breakfast</td>\n",
       "      <td>1.0</td>\n",
       "      <td>Nasi Mujair Goreng</td>\n",
       "      <td>25000.0</td>\n",
       "    </tr>\n",
       "  </tbody>\n",
       "</table>\n",
       "<p>5849 rows × 6 columns</p>\n",
       "</div>"
      ],
      "text/plain": [
       "      Unnamed: 0                                nama_resto     kategori_resto  \\\n",
       "0              1                       McDonald's - Cideng  Chicken,Fast Food   \n",
       "1              2                       McDonald's - Cideng  Chicken,Fast Food   \n",
       "2              3                       McDonald's - Cideng  Chicken,Fast Food   \n",
       "3              4                       McDonald's - Cideng  Chicken,Fast Food   \n",
       "4              5                       McDonald's - Cideng  Chicken,Fast Food   \n",
       "...          ...                                       ...                ...   \n",
       "5844        5845  Kantin Bunda Masakan Padang - Pasar Baru   Padang,Breakfast   \n",
       "5845        5846  Kantin Bunda Masakan Padang - Pasar Baru   Padang,Breakfast   \n",
       "5846        5847  Kantin Bunda Masakan Padang - Pasar Baru   Padang,Breakfast   \n",
       "5847        5848  Kantin Bunda Masakan Padang - Pasar Baru   Padang,Breakfast   \n",
       "5848        5849  Kantin Bunda Masakan Padang - Pasar Baru   Padang,Breakfast   \n",
       "\n",
       "      rating_resto                                         menu_resto  \\\n",
       "0              4.7  2xPaNas1 Ayam Lengkuas (Krispy) + 2x McFlurry ...   \n",
       "1              4.7  2xPaNas1 Ayam Lengkuas (Spicy) + 2x McFlurry OREO   \n",
       "2              4.7  PaMer 5 Ayam Lengkuas ALC (Krispy) + 3x Iced C...   \n",
       "3              4.7  PaMer 5 Ayam Lengkuas ALC (Spicy) + 3x Iced Co...   \n",
       "4              4.7   PaMer 5 Ayam Lengkuas ALC (Mix) + 3x Iced Coffee   \n",
       "...            ...                                                ...   \n",
       "5844           1.0                                   Nasi Telor Bulat   \n",
       "5845           1.0                                      Nasi Perkedel   \n",
       "5846           1.0                                   Nasi Lele Goreng   \n",
       "5847           1.0                                Nasi Kembung goreng   \n",
       "5848           1.0                                 Nasi Mujair Goreng   \n",
       "\n",
       "         harga  \n",
       "0      95000.0  \n",
       "1      95000.0  \n",
       "2     150000.0  \n",
       "3     150000.0  \n",
       "4     150000.0  \n",
       "...        ...  \n",
       "5844   19000.0  \n",
       "5845   12000.0  \n",
       "5846   25000.0  \n",
       "5847   29000.0  \n",
       "5848   25000.0  \n",
       "\n",
       "[5849 rows x 6 columns]"
      ]
     },
     "execution_count": 5,
     "metadata": {},
     "output_type": "execute_result"
    }
   ],
   "source": [
    "df"
   ]
  },
  {
   "cell_type": "code",
   "execution_count": 6,
   "metadata": {},
   "outputs": [],
   "source": [
    "df.drop(['Unnamed: 0'], axis=1, inplace= True)"
   ]
  },
  {
   "cell_type": "code",
   "execution_count": 7,
   "metadata": {},
   "outputs": [],
   "source": [
    "def unique_values(data):\n",
    "    total = data.count()\n",
    "    tt = pd.DataFrame(total)\n",
    "    tt.columns = ['Total']\n",
    "    uniques = []\n",
    "    for col in data.columns:\n",
    "        unique = data[col].nunique()\n",
    "        uniques.append(unique)\n",
    "    tt['Uniques'] = uniques\n",
    "    return tt"
   ]
  },
  {
   "cell_type": "code",
   "execution_count": 8,
   "metadata": {},
   "outputs": [
    {
     "data": {
      "text/html": [
       "<div>\n",
       "<style scoped>\n",
       "    .dataframe tbody tr th:only-of-type {\n",
       "        vertical-align: middle;\n",
       "    }\n",
       "\n",
       "    .dataframe tbody tr th {\n",
       "        vertical-align: top;\n",
       "    }\n",
       "\n",
       "    .dataframe thead th {\n",
       "        text-align: right;\n",
       "    }\n",
       "</style>\n",
       "<table border=\"1\" class=\"dataframe\">\n",
       "  <thead>\n",
       "    <tr style=\"text-align: right;\">\n",
       "      <th></th>\n",
       "      <th>Total</th>\n",
       "      <th>Uniques</th>\n",
       "    </tr>\n",
       "  </thead>\n",
       "  <tbody>\n",
       "    <tr>\n",
       "      <th>nama_resto</th>\n",
       "      <td>5849</td>\n",
       "      <td>96</td>\n",
       "    </tr>\n",
       "    <tr>\n",
       "      <th>kategori_resto</th>\n",
       "      <td>5849</td>\n",
       "      <td>55</td>\n",
       "    </tr>\n",
       "    <tr>\n",
       "      <th>rating_resto</th>\n",
       "      <td>5849</td>\n",
       "      <td>13</td>\n",
       "    </tr>\n",
       "    <tr>\n",
       "      <th>menu_resto</th>\n",
       "      <td>5849</td>\n",
       "      <td>4542</td>\n",
       "    </tr>\n",
       "    <tr>\n",
       "      <th>harga</th>\n",
       "      <td>5849</td>\n",
       "      <td>620</td>\n",
       "    </tr>\n",
       "  </tbody>\n",
       "</table>\n",
       "</div>"
      ],
      "text/plain": [
       "                Total  Uniques\n",
       "nama_resto       5849       96\n",
       "kategori_resto   5849       55\n",
       "rating_resto     5849       13\n",
       "menu_resto       5849     4542\n",
       "harga            5849      620"
      ]
     },
     "execution_count": 8,
     "metadata": {},
     "output_type": "execute_result"
    }
   ],
   "source": [
    "unique_values(df)"
   ]
  },
  {
   "cell_type": "markdown",
   "metadata": {},
   "source": [
    "Banyak duplikasi data dari nama resto. kita akan drop data duplikat."
   ]
  },
  {
   "cell_type": "code",
   "execution_count": 9,
   "metadata": {},
   "outputs": [
    {
     "data": {
      "text/plain": [
       "array([\"McDonald's - Cideng\",\n",
       "       'Lontong Sayur Medan Kak Ika - Petojo Selatan',\n",
       "       'Bubur Ayam H. Hadi - Kebon Sirih',\n",
       "       'Bubur Ayam Cideng 48 - Petojo Selatan',\n",
       "       'Kopi Kenangan x Cerita Roti x Kenangan Manis - Ruko Cideng',\n",
       "       'Starbucks - Tomang', 'HokBen - Tomang', 'Fore Coffee - Cideng',\n",
       "       'Laota Ge Express - Gambir', 'Mie Ayam Sumiyati - Gambir',\n",
       "       'Kopi Kenangan x Cerita Roti - JB Tower', \"McDonald's - Gambir\",\n",
       "       'Kopi Oey - Sabang', 'Solaria - Stasiun Gambir',\n",
       "       'Janji Jiwa & Jiwa Toast - JXTaste', 'HokBen - Stasiun Gambir',\n",
       "       'Krispy Kreme - Gambir', 'Starbucks - Sabang',\n",
       "       'Wr Rujak Buah Fitria Parto - Gambir', 'Bakmi GM - Stasiun Gambir',\n",
       "       'Lawson - Jb Tower', 'Sabang 16 - Kebon Sirih',\n",
       "       'Gadogado Ketoprak Kemkominfo - Gambir', 'KFC - Stasiun Gambir',\n",
       "       'CFC - Stasiun Gambir A', 'Thai Alley - Kebon Sirih',\n",
       "       'Rujak Buah Potong Goyang Lidah - Gambir',\n",
       "       'Cafe Kembar - Petojo Selatan', 'Ayam Kwali DS88 - Gambir',\n",
       "       '<U+0001F31F>Ikan Bakar Rica - Gambir',\n",
       "       'Bubur Ayam Tenda Biru - Gambir', 'Ketoprak Ibu Sidi - Gambir',\n",
       "       'Siomay Batagor Bandung Setiyoroso - Gambir',\n",
       "       'Rajanya Jus Buah Bu Aisyah 46 - Kebon Sirih', 'Xfoodie - Gambir',\n",
       "       'Aneka Buah Potong Jus Dan Salad Buah Hj Munir - Gambir',\n",
       "       'Soto Betawi Risa - Gambir', 'Baru Terbit 0101 - Petojo Selatan',\n",
       "       'Juice Dan Sop Buah Khansa - Gambir',\n",
       "       'Nasi Goreng Dan Nasi Uduk Pak Kadis - Kebon Sirih',\n",
       "       'Brandstof Coffee Sabang - Kebon Sirih',\n",
       "       'Mie Ayam By Sumiyati - Gambir',\n",
       "       'Warung Soto Bang Oman - Kebon Sirih',\n",
       "       'Dre S Kopitiam - Kebon Sirih', 'Sei Sapi Semerbak - Gambir',\n",
       "       'Kuliner Budikemulyaan - Gambir',\n",
       "       'Rames Betawi Dan Sop Iga Ibu Ririn - Gambir',\n",
       "       'Warung Bakaran - Wonosari', 'Ayam Geprek Mattoangin - Mattoangin',\n",
       "       'Kaengs Kitchen Menkominfo - Gambir',\n",
       "       'Soto Betawi Dan Nasi Uduk Kuning - Petojo Selatan',\n",
       "       'Soto Bogor & Nasi Rames Ibu Lili - Gambir',\n",
       "       'RM Sago Jaya - Gambir', 'Mujigae - Gambir',\n",
       "       'Rumah Makan Manado Saung Immanuel - Gambir',\n",
       "       'Nasi Bebek Ibu Yuli Khas Madura - Gambir',\n",
       "       'Chatime - Stasiun Gambir',\n",
       "       'Lapar Kenyang Rice Bowl - Graha Hanurata',\n",
       "       'Sate Padang Aji Oji Jl Veteran2 - Gambir',\n",
       "       'Penang Bistro - Kebon Sirih',\n",
       "       'Nasi Goreng By Rumah Nasi - Menteng',\n",
       "       'Rumah Makan Karya Minang Jaya - Petojo Selatan',\n",
       "       'Sate Ayam Taichan Barkah Kebon Sirih - Kebon Sirih',\n",
       "       'Tongseng Tanah Abang 3 - Petojo Selatan',\n",
       "       'Sate Satay Santay - Menteng', 'Kafe Kembar - Petojo Selatan',\n",
       "       'Bakudapa - Gambir', \"Dapur E'mak - Petojo Selatan\",\n",
       "       'Sate Madura Haji Nasir - Gambir',\n",
       "       'Minang Sepakat Raya Masakan Padang - Petojo Selatan',\n",
       "       'Pecel Ayam Gondrong - Kebon Sirih',\n",
       "       'Bakso Goyang Lidah Mas Alim - Gambir', 'Ho Pe Kopi - Kebon Sirih',\n",
       "       'Gerai Daging Berdikari - Medan Merdeka Barat',\n",
       "       'Pesan Sekaligus! - Jl. Kebon Sirih Barat',\n",
       "       'Waroenk Pencok Babeh Misno - Gambir', 'ASN Cafe Resto - Gambir',\n",
       "       'Warteg Warteg - Senen', 'Yellow Truck Coffee - Kebon Sirih',\n",
       "       'Ayam Geprek Ngiler Sebur - Gambir', 'Foresthree Coffee - Gambir',\n",
       "       'Kantin Bunda Ria - Sukamaju', 'Fondre by Tabula - Gambir',\n",
       "       'Nasi Prapatan - Gambir', 'Nasi Goreng Gila Tenda Biru - Gambir',\n",
       "       'Dapoer Sabang - Kebon Sirih', 'Palava Kitchen by Tabula - Gambir',\n",
       "       'Bakso Malang Tenda Biru - Gambir',\n",
       "       'Warteg Bahari Berkah Barokah - Gambir',\n",
       "       'Arooi by Tabula - Gambir', 'Kantin Mary Aneka Penyet - Ps. Baru',\n",
       "       'RM Sederhana (SA) - Stasiun Besar Gambir',\n",
       "       'Bakso Kemulyaan - Gambir',\n",
       "       'Sate Ayam Dan Kambing Tenda Biru - Gambir',\n",
       "       'Manggar Resto - Gondangdia',\n",
       "       'Kantin Bunda Masakan Padang - Pasar Baru'], dtype=object)"
      ]
     },
     "execution_count": 9,
     "metadata": {},
     "output_type": "execute_result"
    }
   ],
   "source": [
    "df['nama_resto'].unique()"
   ]
  },
  {
   "cell_type": "code",
   "execution_count": 10,
   "metadata": {},
   "outputs": [
    {
     "data": {
      "text/plain": [
       "array(['Chicken,Fast Food', 'Rice', 'Breakfast', 'Coffee,Snack,Breakfast',\n",
       "       'Coffee,Beverages,Bakery & Cake,Breakfast',\n",
       "       'Japanese,Rice,Fast Food', 'Coffee,Breakfast', 'Fast Food',\n",
       "       'Aneka Nasi,Ayam,Minuman ', 'Coffee,Chicken,Snack,Fast Food',\n",
       "       'Rice,Beverages,Bakery & Cake', 'Chinese,Chicken,Noodles,Rice',\n",
       "       'Bakery & Cake', 'Dessert', 'Noodles,Rice', 'Convenience Store',\n",
       "       'Noodles,Dessert,Beverages', 'Indonesian',\n",
       "       'Fast Food,Fried Chicken,Western', 'Rice,Fast Food,Chicken',\n",
       "       'International', 'Snack', 'Rice,Chicken,Seafood', 'Seafood',\n",
       "       'Cemilan,Masakan Indonesia,Minuman ', 'Beverages',\n",
       "       'Pencuci Mulut,Minuman ,Ayam', 'Bakso & Soto',\n",
       "       'Satay,Breakfast,Bakso & Soto', 'Beverages,Dessert',\n",
       "       'Rice,Fast Food', 'Beverages,Coffee', 'Noodles,Rice,Chicken',\n",
       "       'Breakfast,Bakso & Soto', 'Beef', 'Bakso & Soto,Breakfast',\n",
       "       'Bakso & Soto,Rice', 'Rice,Snack,Beverages', 'Chicken,Breakfast',\n",
       "       'Rice,Breakfast,Bakso & Soto', 'Rice,Noodles,Korean,Chicken',\n",
       "       'Beef,Rice,Chicken', 'Satay', 'Chicken', 'Padang,Breakfast',\n",
       "       'Beverages,Bakso & Soto,Snack', 'Rice,Chicken,Padang',\n",
       "       'Rice,Chicken', 'Specialty Store',\n",
       "       'Beverages,Dessert,Rice,#PesanSekaligus',\n",
       "       'Chicken,Breakfast,Bakso & Soto', 'Chicken,Beverages',\n",
       "       'Coffee,Beverages,Snack,Breakfast', 'Rice,Padang,Breakfast',\n",
       "       'Seafood,Chicken'], dtype=object)"
      ]
     },
     "execution_count": 10,
     "metadata": {},
     "output_type": "execute_result"
    }
   ],
   "source": [
    "df['kategori_resto'].unique()"
   ]
  },
  {
   "cell_type": "code",
   "execution_count": 11,
   "metadata": {},
   "outputs": [],
   "source": [
    "cuisine_type = ['Chicken', 'Rice', 'Breakfast', 'Coffee',\n",
    "       'Beverages','Fast Food', 'Chinese',\n",
    "       'Bakery & Cake', 'Noodles',\n",
    "       'Beef', 'Satay', 'Padang',\n",
    "       'Dessert',\n",
    "       'Bakso & Soto',\n",
    "       'Snack',\n",
    "       'Seafood']"
   ]
  },
  {
   "cell_type": "code",
   "execution_count": 12,
   "metadata": {},
   "outputs": [],
   "source": [
    "resto = df.drop_duplicates(subset='nama_resto', keep = 'first')"
   ]
  },
  {
   "cell_type": "code",
   "execution_count": 13,
   "metadata": {},
   "outputs": [
    {
     "data": {
      "text/html": [
       "<div>\n",
       "<style scoped>\n",
       "    .dataframe tbody tr th:only-of-type {\n",
       "        vertical-align: middle;\n",
       "    }\n",
       "\n",
       "    .dataframe tbody tr th {\n",
       "        vertical-align: top;\n",
       "    }\n",
       "\n",
       "    .dataframe thead th {\n",
       "        text-align: right;\n",
       "    }\n",
       "</style>\n",
       "<table border=\"1\" class=\"dataframe\">\n",
       "  <thead>\n",
       "    <tr style=\"text-align: right;\">\n",
       "      <th></th>\n",
       "      <th>nama_resto</th>\n",
       "      <th>kategori_resto</th>\n",
       "      <th>rating_resto</th>\n",
       "      <th>menu_resto</th>\n",
       "      <th>harga</th>\n",
       "    </tr>\n",
       "  </thead>\n",
       "  <tbody>\n",
       "    <tr>\n",
       "      <th>0</th>\n",
       "      <td>McDonald's - Cideng</td>\n",
       "      <td>Chicken,Fast Food</td>\n",
       "      <td>4.7</td>\n",
       "      <td>2xPaNas1 Ayam Lengkuas (Krispy) + 2x McFlurry ...</td>\n",
       "      <td>95000.0</td>\n",
       "    </tr>\n",
       "    <tr>\n",
       "      <th>123</th>\n",
       "      <td>Lontong Sayur Medan Kak Ika - Petojo Selatan</td>\n",
       "      <td>Rice</td>\n",
       "      <td>4.7</td>\n",
       "      <td>Ongol Ongol 1 Pcs</td>\n",
       "      <td>15000.0</td>\n",
       "    </tr>\n",
       "    <tr>\n",
       "      <th>160</th>\n",
       "      <td>Bubur Ayam H. Hadi - Kebon Sirih</td>\n",
       "      <td>Breakfast</td>\n",
       "      <td>4.7</td>\n",
       "      <td>Bubur Ayam Karage</td>\n",
       "      <td>35000.0</td>\n",
       "    </tr>\n",
       "    <tr>\n",
       "      <th>175</th>\n",
       "      <td>Bubur Ayam Cideng 48 - Petojo Selatan</td>\n",
       "      <td>Breakfast</td>\n",
       "      <td>4.7</td>\n",
       "      <td>tambah krupuk</td>\n",
       "      <td>2000.0</td>\n",
       "    </tr>\n",
       "    <tr>\n",
       "      <th>183</th>\n",
       "      <td>Kopi Kenangan x Cerita Roti x Kenangan Manis -...</td>\n",
       "      <td>Coffee,Snack,Breakfast</td>\n",
       "      <td>4.9</td>\n",
       "      <td>Hari Raya bareng Mantan</td>\n",
       "      <td>129000.0</td>\n",
       "    </tr>\n",
       "  </tbody>\n",
       "</table>\n",
       "</div>"
      ],
      "text/plain": [
       "                                            nama_resto  \\\n",
       "0                                  McDonald's - Cideng   \n",
       "123       Lontong Sayur Medan Kak Ika - Petojo Selatan   \n",
       "160                   Bubur Ayam H. Hadi - Kebon Sirih   \n",
       "175              Bubur Ayam Cideng 48 - Petojo Selatan   \n",
       "183  Kopi Kenangan x Cerita Roti x Kenangan Manis -...   \n",
       "\n",
       "             kategori_resto  rating_resto  \\\n",
       "0         Chicken,Fast Food           4.7   \n",
       "123                    Rice           4.7   \n",
       "160               Breakfast           4.7   \n",
       "175               Breakfast           4.7   \n",
       "183  Coffee,Snack,Breakfast           4.9   \n",
       "\n",
       "                                            menu_resto     harga  \n",
       "0    2xPaNas1 Ayam Lengkuas (Krispy) + 2x McFlurry ...   95000.0  \n",
       "123                                  Ongol Ongol 1 Pcs   15000.0  \n",
       "160                                  Bubur Ayam Karage   35000.0  \n",
       "175                                      tambah krupuk    2000.0  \n",
       "183                            Hari Raya bareng Mantan  129000.0  "
      ]
     },
     "execution_count": 13,
     "metadata": {},
     "output_type": "execute_result"
    }
   ],
   "source": [
    "resto.head()"
   ]
  },
  {
   "cell_type": "code",
   "execution_count": 14,
   "metadata": {},
   "outputs": [
    {
     "name": "stdout",
     "output_type": "stream",
     "text": [
      "<class 'pandas.core.frame.DataFrame'>\n",
      "Int64Index: 96 entries, 0 to 5805\n",
      "Data columns (total 5 columns):\n",
      " #   Column          Non-Null Count  Dtype  \n",
      "---  ------          --------------  -----  \n",
      " 0   nama_resto      96 non-null     object \n",
      " 1   kategori_resto  96 non-null     object \n",
      " 2   rating_resto    96 non-null     float64\n",
      " 3   menu_resto      96 non-null     object \n",
      " 4   harga           96 non-null     float64\n",
      "dtypes: float64(2), object(3)\n",
      "memory usage: 4.5+ KB\n"
     ]
    }
   ],
   "source": [
    "resto.info()"
   ]
  },
  {
   "cell_type": "code",
   "execution_count": 16,
   "metadata": {},
   "outputs": [
    {
     "data": {
      "text/html": [
       "<div>\n",
       "<style scoped>\n",
       "    .dataframe tbody tr th:only-of-type {\n",
       "        vertical-align: middle;\n",
       "    }\n",
       "\n",
       "    .dataframe tbody tr th {\n",
       "        vertical-align: top;\n",
       "    }\n",
       "\n",
       "    .dataframe thead th {\n",
       "        text-align: right;\n",
       "    }\n",
       "</style>\n",
       "<table border=\"1\" class=\"dataframe\">\n",
       "  <thead>\n",
       "    <tr style=\"text-align: right;\">\n",
       "      <th></th>\n",
       "      <th>rating_resto</th>\n",
       "      <th>harga</th>\n",
       "    </tr>\n",
       "  </thead>\n",
       "  <tbody>\n",
       "    <tr>\n",
       "      <th>count</th>\n",
       "      <td>96.000000</td>\n",
       "      <td>96.000000</td>\n",
       "    </tr>\n",
       "    <tr>\n",
       "      <th>mean</th>\n",
       "      <td>3.669792</td>\n",
       "      <td>35641.864583</td>\n",
       "    </tr>\n",
       "    <tr>\n",
       "      <th>std</th>\n",
       "      <td>1.935384</td>\n",
       "      <td>38434.809251</td>\n",
       "    </tr>\n",
       "    <tr>\n",
       "      <th>min</th>\n",
       "      <td>0.000000</td>\n",
       "      <td>1.000000</td>\n",
       "    </tr>\n",
       "    <tr>\n",
       "      <th>25%</th>\n",
       "      <td>3.950000</td>\n",
       "      <td>14250.000000</td>\n",
       "    </tr>\n",
       "    <tr>\n",
       "      <th>50%</th>\n",
       "      <td>4.700000</td>\n",
       "      <td>25000.000000</td>\n",
       "    </tr>\n",
       "    <tr>\n",
       "      <th>75%</th>\n",
       "      <td>4.800000</td>\n",
       "      <td>39001.000000</td>\n",
       "    </tr>\n",
       "    <tr>\n",
       "      <th>max</th>\n",
       "      <td>5.000000</td>\n",
       "      <td>247500.000000</td>\n",
       "    </tr>\n",
       "  </tbody>\n",
       "</table>\n",
       "</div>"
      ],
      "text/plain": [
       "       rating_resto          harga\n",
       "count     96.000000      96.000000\n",
       "mean       3.669792   35641.864583\n",
       "std        1.935384   38434.809251\n",
       "min        0.000000       1.000000\n",
       "25%        3.950000   14250.000000\n",
       "50%        4.700000   25000.000000\n",
       "75%        4.800000   39001.000000\n",
       "max        5.000000  247500.000000"
      ]
     },
     "execution_count": 16,
     "metadata": {},
     "output_type": "execute_result"
    }
   ],
   "source": [
    "resto.describe()"
   ]
  },
  {
   "cell_type": "code",
   "execution_count": 10,
   "metadata": {},
   "outputs": [],
   "source": [
    "cuisine_type_ct = []\n",
    "\n",
    "# Type = List\n",
    "for i in cuisine_type:\n",
    "    count = sum(resto['kategori_resto'].apply(lambda x: i in x))\n",
    "    cuisine_type_ct.append(count)\n",
    "\n",
    "\n",
    "#Convert the Lists into A DataFrame\n",
    "\n",
    "csne_counts = pd.DataFrame({'kategori makanan': cuisine_type, 'count': cuisine_type_ct})\n",
    "csne_counts.sort_values(by='count', ascending=False, inplace=True)\n",
    "csne_counts.reset_index(drop=True, inplace=True)"
   ]
  },
  {
   "cell_type": "code",
   "execution_count": 11,
   "metadata": {},
   "outputs": [
    {
     "data": {
      "text/html": [
       "<div>\n",
       "<style scoped>\n",
       "    .dataframe tbody tr th:only-of-type {\n",
       "        vertical-align: middle;\n",
       "    }\n",
       "\n",
       "    .dataframe tbody tr th {\n",
       "        vertical-align: top;\n",
       "    }\n",
       "\n",
       "    .dataframe thead th {\n",
       "        text-align: right;\n",
       "    }\n",
       "</style>\n",
       "<table border=\"1\" class=\"dataframe\">\n",
       "  <thead>\n",
       "    <tr style=\"text-align: right;\">\n",
       "      <th></th>\n",
       "      <th>kategori makanan</th>\n",
       "      <th>count</th>\n",
       "    </tr>\n",
       "  </thead>\n",
       "  <tbody>\n",
       "    <tr>\n",
       "      <th>0</th>\n",
       "      <td>Rice</td>\n",
       "      <td>32</td>\n",
       "    </tr>\n",
       "    <tr>\n",
       "      <th>1</th>\n",
       "      <td>Breakfast</td>\n",
       "      <td>23</td>\n",
       "    </tr>\n",
       "    <tr>\n",
       "      <th>2</th>\n",
       "      <td>Chicken</td>\n",
       "      <td>20</td>\n",
       "    </tr>\n",
       "    <tr>\n",
       "      <th>3</th>\n",
       "      <td>Beverages</td>\n",
       "      <td>14</td>\n",
       "    </tr>\n",
       "    <tr>\n",
       "      <th>4</th>\n",
       "      <td>Coffee</td>\n",
       "      <td>12</td>\n",
       "    </tr>\n",
       "    <tr>\n",
       "      <th>5</th>\n",
       "      <td>Bakso &amp; Soto</td>\n",
       "      <td>12</td>\n",
       "    </tr>\n",
       "    <tr>\n",
       "      <th>6</th>\n",
       "      <td>Fast Food</td>\n",
       "      <td>8</td>\n",
       "    </tr>\n",
       "    <tr>\n",
       "      <th>7</th>\n",
       "      <td>Satay</td>\n",
       "      <td>7</td>\n",
       "    </tr>\n",
       "    <tr>\n",
       "      <th>8</th>\n",
       "      <td>Snack</td>\n",
       "      <td>7</td>\n",
       "    </tr>\n",
       "    <tr>\n",
       "      <th>9</th>\n",
       "      <td>Noodles</td>\n",
       "      <td>5</td>\n",
       "    </tr>\n",
       "    <tr>\n",
       "      <th>10</th>\n",
       "      <td>Bakery &amp; Cake</td>\n",
       "      <td>4</td>\n",
       "    </tr>\n",
       "    <tr>\n",
       "      <th>11</th>\n",
       "      <td>Padang</td>\n",
       "      <td>4</td>\n",
       "    </tr>\n",
       "    <tr>\n",
       "      <th>12</th>\n",
       "      <td>Dessert</td>\n",
       "      <td>4</td>\n",
       "    </tr>\n",
       "    <tr>\n",
       "      <th>13</th>\n",
       "      <td>Seafood</td>\n",
       "      <td>4</td>\n",
       "    </tr>\n",
       "    <tr>\n",
       "      <th>14</th>\n",
       "      <td>Beef</td>\n",
       "      <td>2</td>\n",
       "    </tr>\n",
       "    <tr>\n",
       "      <th>15</th>\n",
       "      <td>Chinese</td>\n",
       "      <td>1</td>\n",
       "    </tr>\n",
       "  </tbody>\n",
       "</table>\n",
       "</div>"
      ],
      "text/plain": [
       "   kategori makanan  count\n",
       "0              Rice     32\n",
       "1         Breakfast     23\n",
       "2           Chicken     20\n",
       "3         Beverages     14\n",
       "4            Coffee     12\n",
       "5      Bakso & Soto     12\n",
       "6         Fast Food      8\n",
       "7             Satay      7\n",
       "8             Snack      7\n",
       "9           Noodles      5\n",
       "10    Bakery & Cake      4\n",
       "11           Padang      4\n",
       "12          Dessert      4\n",
       "13          Seafood      4\n",
       "14             Beef      2\n",
       "15          Chinese      1"
      ]
     },
     "execution_count": 11,
     "metadata": {},
     "output_type": "execute_result"
    }
   ],
   "source": [
    "csne_counts"
   ]
  },
  {
   "cell_type": "code",
   "execution_count": 30,
   "metadata": {},
   "outputs": [
    {
     "data": {
      "image/png": "[encoded data removed]",
      "text/plain": [
       "<Figure size 1440x576 with 1 Axes>"
      ]
     },
     "metadata": {
      "needs_background": "light"
     },
     "output_type": "display_data"
    }
   ],
   "source": [
    "#csne_not_unspecified = csne_counts[1:35]\n",
    "#csne_not_unspecified_top15 = csne_counts[1:16]\n",
    "\n",
    "plt.figure(figsize=(20,8))\n",
    "ax=sns.barplot(x=\"kategori makanan\", y=\"count\", data=csne_counts)\n",
    "ax.set_title('Kategori Makanan di Jakarta Pusat')\n",
    "plt.show()"
   ]
  },
  {
   "cell_type": "code",
   "execution_count": 18,
   "metadata": {},
   "outputs": [],
   "source": [
    "harga = pd.DataFrame({'Sales' : df.groupby('nama_resto')['harga'].max()})"
   ]
  },
  {
   "cell_type": "code",
   "execution_count": 76,
   "metadata": {},
   "outputs": [],
   "source": [
    "new= resto['kategori_resto'].str.split(',', expand=True)"
   ]
  },
  {
   "cell_type": "code",
   "execution_count": 78,
   "metadata": {},
   "outputs": [],
   "source": [
    "resto['jenis'] = new[0]"
   ]
  },
  {
   "cell_type": "code",
   "execution_count": 82,
   "metadata": {},
   "outputs": [
    {
     "data": {
      "text/plain": [
       "array(['Chicken', 'Rice', 'Breakfast', 'Coffee', 'Japanese', 'Fast Food',\n",
       "       'Aneka Nasi', 'Chinese', 'Bakery & Cake', 'Dessert', 'Noodles',\n",
       "       'Convenience Store', 'Indonesian', 'International', 'Snack',\n",
       "       'Seafood', 'Cemilan', 'Beverages', 'Pencuci Mulut', 'Bakso & Soto',\n",
       "       'Satay', 'Beef', 'Padang', 'Specialty Store'], dtype=object)"
      ]
     },
     "execution_count": 82,
     "metadata": {},
     "output_type": "execute_result"
    }
   ],
   "source": [
    "resto['jenis'].unique()"
   ]
  },
  {
   "cell_type": "code",
   "execution_count": 97,
   "metadata": {},
   "outputs": [
    {
     "data": {
      "text/html": [
       "<div>\n",
       "<style scoped>\n",
       "    .dataframe tbody tr th:only-of-type {\n",
       "        vertical-align: middle;\n",
       "    }\n",
       "\n",
       "    .dataframe tbody tr th {\n",
       "        vertical-align: top;\n",
       "    }\n",
       "\n",
       "    .dataframe thead th {\n",
       "        text-align: right;\n",
       "    }\n",
       "</style>\n",
       "<table border=\"1\" class=\"dataframe\">\n",
       "  <thead>\n",
       "    <tr style=\"text-align: right;\">\n",
       "      <th></th>\n",
       "      <th>nama_resto</th>\n",
       "      <th>kategori_resto</th>\n",
       "      <th>rating_resto</th>\n",
       "      <th>menu_resto</th>\n",
       "      <th>harga</th>\n",
       "      <th>jenis</th>\n",
       "    </tr>\n",
       "  </thead>\n",
       "  <tbody>\n",
       "    <tr>\n",
       "      <th>0</th>\n",
       "      <td>McDonald's - Cideng</td>\n",
       "      <td>Chicken,Fast Food</td>\n",
       "      <td>4.7</td>\n",
       "      <td>2xPaNas1 Ayam Lengkuas (Krispy) + 2x McFlurry ...</td>\n",
       "      <td>95000.0</td>\n",
       "      <td>Chicken</td>\n",
       "    </tr>\n",
       "    <tr>\n",
       "      <th>123</th>\n",
       "      <td>Lontong Sayur Medan Kak Ika - Petojo Selatan</td>\n",
       "      <td>Rice</td>\n",
       "      <td>4.7</td>\n",
       "      <td>Ongol Ongol 1 Pcs</td>\n",
       "      <td>15000.0</td>\n",
       "      <td>Rice</td>\n",
       "    </tr>\n",
       "    <tr>\n",
       "      <th>160</th>\n",
       "      <td>Bubur Ayam H. Hadi - Kebon Sirih</td>\n",
       "      <td>Breakfast</td>\n",
       "      <td>4.7</td>\n",
       "      <td>Bubur Ayam Karage</td>\n",
       "      <td>35000.0</td>\n",
       "      <td>Breakfast</td>\n",
       "    </tr>\n",
       "    <tr>\n",
       "      <th>175</th>\n",
       "      <td>Bubur Ayam Cideng 48 - Petojo Selatan</td>\n",
       "      <td>Breakfast</td>\n",
       "      <td>4.7</td>\n",
       "      <td>tambah krupuk</td>\n",
       "      <td>2000.0</td>\n",
       "      <td>Breakfast</td>\n",
       "    </tr>\n",
       "    <tr>\n",
       "      <th>183</th>\n",
       "      <td>Kopi Kenangan x Cerita Roti x Kenangan Manis -...</td>\n",
       "      <td>Coffee,Snack,Breakfast</td>\n",
       "      <td>4.9</td>\n",
       "      <td>Hari Raya bareng Mantan</td>\n",
       "      <td>129000.0</td>\n",
       "      <td>Coffee</td>\n",
       "    </tr>\n",
       "    <tr>\n",
       "      <th>...</th>\n",
       "      <td>...</td>\n",
       "      <td>...</td>\n",
       "      <td>...</td>\n",
       "      <td>...</td>\n",
       "      <td>...</td>\n",
       "      <td>...</td>\n",
       "    </tr>\n",
       "    <tr>\n",
       "      <th>5605</th>\n",
       "      <td>RM Sederhana (SA) - Stasiun Besar Gambir</td>\n",
       "      <td>Rice,Padang,Breakfast</td>\n",
       "      <td>5.0</td>\n",
       "      <td>Es Teh Tawar</td>\n",
       "      <td>4943.0</td>\n",
       "      <td>Rice</td>\n",
       "    </tr>\n",
       "    <tr>\n",
       "      <th>5701</th>\n",
       "      <td>Bakso Kemulyaan - Gambir</td>\n",
       "      <td>Bakso &amp; Soto</td>\n",
       "      <td>0.0</td>\n",
       "      <td>Bakso Polos</td>\n",
       "      <td>18000.0</td>\n",
       "      <td>Bakso &amp; Soto</td>\n",
       "    </tr>\n",
       "    <tr>\n",
       "      <th>5708</th>\n",
       "      <td>Sate Ayam Dan Kambing Tenda Biru - Gambir</td>\n",
       "      <td>Satay</td>\n",
       "      <td>5.0</td>\n",
       "      <td>Sate Ayam + Nasi</td>\n",
       "      <td>25000.0</td>\n",
       "      <td>Satay</td>\n",
       "    </tr>\n",
       "    <tr>\n",
       "      <th>5712</th>\n",
       "      <td>Manggar Resto - Gondangdia</td>\n",
       "      <td>Seafood,Chicken</td>\n",
       "      <td>4.8</td>\n",
       "      <td>Soto Tangkar Iga</td>\n",
       "      <td>85000.0</td>\n",
       "      <td>Seafood</td>\n",
       "    </tr>\n",
       "    <tr>\n",
       "      <th>5805</th>\n",
       "      <td>Kantin Bunda Masakan Padang - Pasar Baru</td>\n",
       "      <td>Padang,Breakfast</td>\n",
       "      <td>1.0</td>\n",
       "      <td>Es Teh Manis</td>\n",
       "      <td>6500.0</td>\n",
       "      <td>Padang</td>\n",
       "    </tr>\n",
       "  </tbody>\n",
       "</table>\n",
       "<p>96 rows × 6 columns</p>\n",
       "</div>"
      ],
      "text/plain": [
       "                                             nama_resto  \\\n",
       "0                                   McDonald's - Cideng   \n",
       "123        Lontong Sayur Medan Kak Ika - Petojo Selatan   \n",
       "160                    Bubur Ayam H. Hadi - Kebon Sirih   \n",
       "175               Bubur Ayam Cideng 48 - Petojo Selatan   \n",
       "183   Kopi Kenangan x Cerita Roti x Kenangan Manis -...   \n",
       "...                                                 ...   \n",
       "5605           RM Sederhana (SA) - Stasiun Besar Gambir   \n",
       "5701                           Bakso Kemulyaan - Gambir   \n",
       "5708          Sate Ayam Dan Kambing Tenda Biru - Gambir   \n",
       "5712                         Manggar Resto - Gondangdia   \n",
       "5805           Kantin Bunda Masakan Padang - Pasar Baru   \n",
       "\n",
       "              kategori_resto  rating_resto  \\\n",
       "0          Chicken,Fast Food           4.7   \n",
       "123                     Rice           4.7   \n",
       "160                Breakfast           4.7   \n",
       "175                Breakfast           4.7   \n",
       "183   Coffee,Snack,Breakfast           4.9   \n",
       "...                      ...           ...   \n",
       "5605   Rice,Padang,Breakfast           5.0   \n",
       "5701            Bakso & Soto           0.0   \n",
       "5708                   Satay           5.0   \n",
       "5712         Seafood,Chicken           4.8   \n",
       "5805        Padang,Breakfast           1.0   \n",
       "\n",
       "                                             menu_resto     harga  \\\n",
       "0     2xPaNas1 Ayam Lengkuas (Krispy) + 2x McFlurry ...   95000.0   \n",
       "123                                   Ongol Ongol 1 Pcs   15000.0   \n",
       "160                                   Bubur Ayam Karage   35000.0   \n",
       "175                                       tambah krupuk    2000.0   \n",
       "183                             Hari Raya bareng Mantan  129000.0   \n",
       "...                                                 ...       ...   \n",
       "5605                                       Es Teh Tawar    4943.0   \n",
       "5701                                        Bakso Polos   18000.0   \n",
       "5708                                   Sate Ayam + Nasi   25000.0   \n",
       "5712                                   Soto Tangkar Iga   85000.0   \n",
       "5805                                       Es Teh Manis    6500.0   \n",
       "\n",
       "             jenis  \n",
       "0          Chicken  \n",
       "123           Rice  \n",
       "160      Breakfast  \n",
       "175      Breakfast  \n",
       "183         Coffee  \n",
       "...            ...  \n",
       "5605          Rice  \n",
       "5701  Bakso & Soto  \n",
       "5708         Satay  \n",
       "5712       Seafood  \n",
       "5805        Padang  \n",
       "\n",
       "[96 rows x 6 columns]"
      ]
     },
     "execution_count": 97,
     "metadata": {},
     "output_type": "execute_result"
    }
   ],
   "source": [
    "resto"
   ]
  },
  {
   "cell_type": "code",
   "execution_count": 123,
   "metadata": {},
   "outputs": [
    {
     "data": {
      "application/vnd.plotly.v1+json": {
       "config": {
        "plotlyServerURL": "https://plot.ly"
       },
       "data": [
        {
         "alignmentgroup": "True",
         "legendgroup": "25.0%",
         "marker": {
          "color": "#334668",
          "line": {
           "width": 0
          },
          "pattern": {
           "shape": ""
          }
         },
         "name": "25.0%",
         "offsetgroup": "25.0%",
         "orientation": "h",
         "showlegend": true,
         "text": [
          "25.0%"
         ],
         "textposition": "auto",
         "type": "bar",
         "x": [
          24
         ],
         "xaxis": "x",
         "y": [
          "Rice"
         ],
         "yaxis": "y"
        },
        {
         "alignmentgroup": "True",
         "legendgroup": "11.46%",
         "marker": {
          "color": "#334668",
          "line": {
           "width": 0
          },
          "pattern": {
           "shape": ""
          }
         },
         "name": "11.46%",
         "offsetgroup": "11.46%",
         "orientation": "h",
         "showlegend": true,
         "text": [
          "11.46%"
         ],
         "textposition": "auto",
         "type": "bar",
         "x": [
          11
         ],
         "xaxis": "x",
         "y": [
          "Coffee"
         ],
         "yaxis": "y"
        },
        {
         "alignmentgroup": "True",
         "legendgroup": "7.29%",
         "marker": {
          "color": "#334668",
          "line": {
           "width": 0
          },
          "pattern": {
           "shape": ""
          }
         },
         "name": "7.29%",
         "offsetgroup": "7.29%",
         "orientation": "h",
         "showlegend": true,
         "text": [
          "7.29%",
          "7.29%"
         ],
         "textposition": "auto",
         "type": "bar",
         "x": [
          7,
          7
         ],
         "xaxis": "x",
         "y": [
          "Satay",
          "Beverages"
         ],
         "yaxis": "y"
        },
        {
         "alignmentgroup": "True",
         "legendgroup": "6.25%",
         "marker": {
          "color": "#91A2BF",
          "line": {
           "width": 0
          },
          "pattern": {
           "shape": ""
          }
         },
         "name": "6.25%",
         "offsetgroup": "6.25%",
         "orientation": "h",
         "showlegend": true,
         "text": [
          "6.25%",
          "6.25%"
         ],
         "textposition": "auto",
         "type": "bar",
         "x": [
          6,
          6
         ],
         "xaxis": "x",
         "y": [
          "Chicken",
          "Bakso & Soto"
         ],
         "yaxis": "y"
        },
        {
         "alignmentgroup": "True",
         "legendgroup": "5.21%",
         "marker": {
          "color": "#91A2BF",
          "line": {
           "width": 0
          },
          "pattern": {
           "shape": ""
          }
         },
         "name": "5.21%",
         "offsetgroup": "5.21%",
         "orientation": "h",
         "showlegend": true,
         "text": [
          "5.21%",
          "5.21%"
         ],
         "textposition": "auto",
         "type": "bar",
         "x": [
          5,
          5
         ],
         "xaxis": "x",
         "y": [
          "Indonesian",
          "Breakfast"
         ],
         "yaxis": "y"
        },
        {
         "alignmentgroup": "True",
         "legendgroup": "3.12%",
         "marker": {
          "color": "#91A2BF",
          "line": {
           "width": 0
          },
          "pattern": {
           "shape": ""
          }
         },
         "name": "3.12%",
         "offsetgroup": "3.12%",
         "orientation": "h",
         "showlegend": true,
         "text": [
          "3.12%"
         ],
         "textposition": "auto",
         "type": "bar",
         "x": [
          3
         ],
         "xaxis": "x",
         "y": [
          "Noodles"
         ],
         "yaxis": "y"
        },
        {
         "alignmentgroup": "True",
         "legendgroup": "2.08%",
         "marker": {
          "color": "#91A2BF",
          "line": {
           "width": 0
          },
          "pattern": {
           "shape": ""
          }
         },
         "name": "2.08%",
         "offsetgroup": "2.08%",
         "orientation": "h",
         "showlegend": true,
         "text": [
          "2.08%",
          "2.08%",
          "2.08%",
          "2.08%",
          "2.08%",
          "2.08%",
          "2.08%"
         ],
         "textposition": "auto",
         "type": "bar",
         "x": [
          2,
          2,
          2,
          2,
          2,
          2,
          2
         ],
         "xaxis": "x",
         "y": [
          "Seafood",
          "Fast Food",
          "Padang",
          "Beef",
          "Japanese",
          "Specialty Store",
          "Snack"
         ],
         "yaxis": "y"
        },
        {
         "alignmentgroup": "True",
         "legendgroup": "1.04%",
         "marker": {
          "color": "#91A2BF",
          "line": {
           "width": 0
          },
          "pattern": {
           "shape": ""
          }
         },
         "name": "1.04%",
         "offsetgroup": "1.04%",
         "orientation": "h",
         "showlegend": true,
         "text": [
          "1.04%",
          "1.04%",
          "1.04%",
          "1.04%",
          "1.04%",
          "1.04%",
          "1.04%",
          "1.04%"
         ],
         "textposition": "auto",
         "type": "bar",
         "x": [
          1,
          1,
          1,
          1,
          1,
          1,
          1,
          1
         ],
         "xaxis": "x",
         "y": [
          "Bakery & Cake",
          "Cemilan",
          "Pencuci Mulut",
          "International",
          "Aneka Nasi",
          "Convenience Store",
          "Dessert",
          "Chinese"
         ],
         "yaxis": "y"
        }
       ],
       "layout": {
        "barmode": "relative",
        "font": {
         "color": "#8a8d93",
         "size": 13
        },
        "height": 450,
        "hovermode": "y unified",
        "legend": {
         "title": {
          "text": "per"
         },
         "tracegroupgap": 0
        },
        "margin": {
         "b": 40,
         "l": 0,
         "r": 0,
         "t": 90
        },
        "paper_bgcolor": "#333",
        "plot_bgcolor": "#333",
        "showlegend": false,
        "template": {
         "data": {
          "bar": [
           {
            "error_x": {
             "color": "#2a3f5f"
            },
            "error_y": {
             "color": "#2a3f5f"
            },
            "marker": {
             "line": {
              "color": "#E5ECF6",
              "width": 0.5
             },
             "pattern": {
              "fillmode": "overlay",
              "size": 10,
              "solidity": 0.2
             }
            },
            "type": "bar"
           }
          ],
          "barpolar": [
           {
            "marker": {
             "line": {
              "color": "#E5ECF6",
              "width": 0.5
             },
             "pattern": {
              "fillmode": "overlay",
              "size": 10,
              "solidity": 0.2
             }
            },
            "type": "barpolar"
           }
          ],
          "carpet": [
           {
            "aaxis": {
             "endlinecolor": "#2a3f5f",
             "gridcolor": "white",
             "linecolor": "white",
             "minorgridcolor": "white",
             "startlinecolor": "#2a3f5f"
            },
            "baxis": {
             "endlinecolor": "#2a3f5f",
             "gridcolor": "white",
             "linecolor": "white",
             "minorgridcolor": "white",
             "startlinecolor": "#2a3f5f"
            },
            "type": "carpet"
           }
          ],
          "choropleth": [
           {
            "colorbar": {
             "outlinewidth": 0,
             "ticks": ""
            },
            "type": "choropleth"
           }
          ],
          "contour": [
           {
            "colorbar": {
             "outlinewidth": 0,
             "ticks": ""
            },
            "colorscale": [
             [
              0,
              "#0d0887"
             ],
             [
              0.1111111111111111,
              "#46039f"
             ],
             [
              0.2222222222222222,
              "#7201a8"
             ],
             [
              0.3333333333333333,
              "#9c179e"
             ],
             [
              0.4444444444444444,
              "#bd3786"
             ],
             [
              0.5555555555555556,
              "#d8576b"
             ],
             [
              0.6666666666666666,
              "#ed7953"
             ],
             [
              0.7777777777777778,
              "#fb9f3a"
             ],
             [
              0.8888888888888888,
              "#fdca26"
             ],
             [
              1,
              "#f0f921"
             ]
            ],
            "type": "contour"
           }
          ],
          "contourcarpet": [
           {
            "colorbar": {
             "outlinewidth": 0,
             "ticks": ""
            },
            "type": "contourcarpet"
           }
          ],
          "heatmap": [
           {
            "colorbar": {
             "outlinewidth": 0,
             "ticks": ""
            },
            "colorscale": [
             [
              0,
              "#0d0887"
             ],
             [
              0.1111111111111111,
              "#46039f"
             ],
             [
              0.2222222222222222,
              "#7201a8"
             ],
             [
              0.3333333333333333,
              "#9c179e"
             ],
             [
              0.4444444444444444,
              "#bd3786"
             ],
             [
              0.5555555555555556,
              "#d8576b"
             ],
             [
              0.6666666666666666,
              "#ed7953"
             ],
             [
              0.7777777777777778,
              "#fb9f3a"
             ],
             [
              0.8888888888888888,
              "#fdca26"
             ],
             [
              1,
              "#f0f921"
             ]
            ],
            "type": "heatmap"
           }
          ],
          "heatmapgl": [
           {
            "colorbar": {
             "outlinewidth": 0,
             "ticks": ""
            },
            "colorscale": [
             [
              0,
              "#0d0887"
             ],
             [
              0.1111111111111111,
              "#46039f"
             ],
             [
              0.2222222222222222,
              "#7201a8"
             ],
             [
              0.3333333333333333,
              "#9c179e"
             ],
             [
              0.4444444444444444,
              "#bd3786"
             ],
             [
              0.5555555555555556,
              "#d8576b"
             ],
             [
              0.6666666666666666,
              "#ed7953"
             ],
             [
              0.7777777777777778,
              "#fb9f3a"
             ],
             [
              0.8888888888888888,
              "#fdca26"
             ],
             [
              1,
              "#f0f921"
             ]
            ],
            "type": "heatmapgl"
           }
          ],
          "histogram": [
           {
            "marker": {
             "pattern": {
              "fillmode": "overlay",
              "size": 10,
              "solidity": 0.2
             }
            },
            "type": "histogram"
           }
          ],
          "histogram2d": [
           {
            "colorbar": {
             "outlinewidth": 0,
             "ticks": ""
            },
            "colorscale": [
             [
              0,
              "#0d0887"
             ],
             [
              0.1111111111111111,
              "#46039f"
             ],
             [
              0.2222222222222222,
              "#7201a8"
             ],
             [
              0.3333333333333333,
              "#9c179e"
             ],
             [
              0.4444444444444444,
              "#bd3786"
             ],
             [
              0.5555555555555556,
              "#d8576b"
             ],
             [
              0.6666666666666666,
              "#ed7953"
             ],
             [
              0.7777777777777778,
              "#fb9f3a"
             ],
             [
              0.8888888888888888,
              "#fdca26"
             ],
             [
              1,
              "#f0f921"
             ]
            ],
            "type": "histogram2d"
           }
          ],
          "histogram2dcontour": [
           {
            "colorbar": {
             "outlinewidth": 0,
             "ticks": ""
            },
            "colorscale": [
             [
              0,
              "#0d0887"
             ],
             [
              0.1111111111111111,
              "#46039f"
             ],
             [
              0.2222222222222222,
              "#7201a8"
             ],
             [
              0.3333333333333333,
              "#9c179e"
             ],
             [
              0.4444444444444444,
              "#bd3786"
             ],
             [
              0.5555555555555556,
              "#d8576b"
             ],
             [
              0.6666666666666666,
              "#ed7953"
             ],
             [
              0.7777777777777778,
              "#fb9f3a"
             ],
             [
              0.8888888888888888,
              "#fdca26"
             ],
             [
              1,
              "#f0f921"
             ]
            ],
            "type": "histogram2dcontour"
           }
          ],
          "mesh3d": [
           {
            "colorbar": {
             "outlinewidth": 0,
             "ticks": ""
            },
            "type": "mesh3d"
           }
          ],
          "parcoords": [
           {
            "line": {
             "colorbar": {
              "outlinewidth": 0,
              "ticks": ""
             }
            },
            "type": "parcoords"
           }
          ],
          "pie": [
           {
            "automargin": true,
            "type": "pie"
           }
          ],
          "scatter": [
           {
            "fillpattern": {
             "fillmode": "overlay",
             "size": 10,
             "solidity": 0.2
            },
            "type": "scatter"
           }
          ],
          "scatter3d": [
           {
            "line": {
             "colorbar": {
              "outlinewidth": 0,
              "ticks": ""
             }
            },
            "marker": {
             "colorbar": {
              "outlinewidth": 0,
              "ticks": ""
             }
            },
            "type": "scatter3d"
           }
          ],
          "scattercarpet": [
           {
            "marker": {
             "colorbar": {
              "outlinewidth": 0,
              "ticks": ""
             }
            },
            "type": "scattercarpet"
           }
          ],
          "scattergeo": [
           {
            "marker": {
             "colorbar": {
              "outlinewidth": 0,
              "ticks": ""
             }
            },
            "type": "scattergeo"
           }
          ],
          "scattergl": [
           {
            "marker": {
             "colorbar": {
              "outlinewidth": 0,
              "ticks": ""
             }
            },
            "type": "scattergl"
           }
          ],
          "scattermapbox": [
           {
            "marker": {
             "colorbar": {
              "outlinewidth": 0,
              "ticks": ""
             }
            },
            "type": "scattermapbox"
           }
          ],
          "scatterpolar": [
           {
            "marker": {
             "colorbar": {
              "outlinewidth": 0,
              "ticks": ""
             }
            },
            "type": "scatterpolar"
           }
          ],
          "scatterpolargl": [
           {
            "marker": {
             "colorbar": {
              "outlinewidth": 0,
              "ticks": ""
             }
            },
            "type": "scatterpolargl"
           }
          ],
          "scatterternary": [
           {
            "marker": {
             "colorbar": {
              "outlinewidth": 0,
              "ticks": ""
             }
            },
            "type": "scatterternary"
           }
          ],
          "surface": [
           {
            "colorbar": {
             "outlinewidth": 0,
             "ticks": ""
            },
            "colorscale": [
             [
              0,
              "#0d0887"
             ],
             [
              0.1111111111111111,
              "#46039f"
             ],
             [
              0.2222222222222222,
              "#7201a8"
             ],
             [
              0.3333333333333333,
              "#9c179e"
             ],
             [
              0.4444444444444444,
              "#bd3786"
             ],
             [
              0.5555555555555556,
              "#d8576b"
             ],
             [
              0.6666666666666666,
              "#ed7953"
             ],
             [
              0.7777777777777778,
              "#fb9f3a"
             ],
             [
              0.8888888888888888,
              "#fdca26"
             ],
             [
              1,
              "#f0f921"
             ]
            ],
            "type": "surface"
           }
          ],
          "table": [
           {
            "cells": {
             "fill": {
              "color": "#EBF0F8"
             },
             "line": {
              "color": "white"
             }
            },
            "header": {
             "fill": {
              "color": "#C8D4E3"
             },
             "line": {
              "color": "white"
             }
            },
            "type": "table"
           }
          ]
         },
         "layout": {
          "annotationdefaults": {
           "arrowcolor": "#2a3f5f",
           "arrowhead": 0,
           "arrowwidth": 1
          },
          "autotypenumbers": "strict",
          "coloraxis": {
           "colorbar": {
            "outlinewidth": 0,
            "ticks": ""
           }
          },
          "colorscale": {
           "diverging": [
            [
             0,
             "#8e0152"
            ],
            [
             0.1,
             "#c51b7d"
            ],
            [
             0.2,
             "#de77ae"
            ],
            [
             0.3,
             "#f1b6da"
            ],
            [
             0.4,
             "#fde0ef"
            ],
            [
             0.5,
             "#f7f7f7"
            ],
            [
             0.6,
             "#e6f5d0"
            ],
            [
             0.7,
             "#b8e186"
            ],
            [
             0.8,
             "#7fbc41"
            ],
            [
             0.9,
             "#4d9221"
            ],
            [
             1,
             "#276419"
            ]
           ],
           "sequential": [
            [
             0,
             "#0d0887"
            ],
            [
             0.1111111111111111,
             "#46039f"
            ],
            [
             0.2222222222222222,
             "#7201a8"
            ],
            [
             0.3333333333333333,
             "#9c179e"
            ],
            [
             0.4444444444444444,
             "#bd3786"
            ],
            [
             0.5555555555555556,
             "#d8576b"
            ],
            [
             0.6666666666666666,
             "#ed7953"
            ],
            [
             0.7777777777777778,
             "#fb9f3a"
            ],
            [
             0.8888888888888888,
             "#fdca26"
            ],
            [
             1,
             "#f0f921"
            ]
           ],
           "sequentialminus": [
            [
             0,
             "#0d0887"
            ],
            [
             0.1111111111111111,
             "#46039f"
            ],
            [
             0.2222222222222222,
             "#7201a8"
            ],
            [
             0.3333333333333333,
             "#9c179e"
            ],
            [
             0.4444444444444444,
             "#bd3786"
            ],
            [
             0.5555555555555556,
             "#d8576b"
            ],
            [
             0.6666666666666666,
             "#ed7953"
            ],
            [
             0.7777777777777778,
             "#fb9f3a"
            ],
            [
             0.8888888888888888,
             "#fdca26"
            ],
            [
             1,
             "#f0f921"
            ]
           ]
          },
          "colorway": [
           "#636efa",
           "#EF553B",
           "#00cc96",
           "#ab63fa",
           "#FFA15A",
           "#19d3f3",
           "#FF6692",
           "#B6E880",
           "#FF97FF",
           "#FECB52"
          ],
          "font": {
           "color": "#2a3f5f"
          },
          "geo": {
           "bgcolor": "white",
           "lakecolor": "white",
           "landcolor": "#E5ECF6",
           "showlakes": true,
           "showland": true,
           "subunitcolor": "white"
          },
          "hoverlabel": {
           "align": "left"
          },
          "hovermode": "closest",
          "mapbox": {
           "style": "light"
          },
          "paper_bgcolor": "white",
          "plot_bgcolor": "#E5ECF6",
          "polar": {
           "angularaxis": {
            "gridcolor": "white",
            "linecolor": "white",
            "ticks": ""
           },
           "bgcolor": "#E5ECF6",
           "radialaxis": {
            "gridcolor": "white",
            "linecolor": "white",
            "ticks": ""
           }
          },
          "scene": {
           "xaxis": {
            "backgroundcolor": "#E5ECF6",
            "gridcolor": "white",
            "gridwidth": 2,
            "linecolor": "white",
            "showbackground": true,
            "ticks": "",
            "zerolinecolor": "white"
           },
           "yaxis": {
            "backgroundcolor": "#E5ECF6",
            "gridcolor": "white",
            "gridwidth": 2,
            "linecolor": "white",
            "showbackground": true,
            "ticks": "",
            "zerolinecolor": "white"
           },
           "zaxis": {
            "backgroundcolor": "#E5ECF6",
            "gridcolor": "white",
            "gridwidth": 2,
            "linecolor": "white",
            "showbackground": true,
            "ticks": "",
            "zerolinecolor": "white"
           }
          },
          "shapedefaults": {
           "line": {
            "color": "#2a3f5f"
           }
          },
          "ternary": {
           "aaxis": {
            "gridcolor": "white",
            "linecolor": "white",
            "ticks": ""
           },
           "baxis": {
            "gridcolor": "white",
            "linecolor": "white",
            "ticks": ""
           },
           "bgcolor": "#E5ECF6",
           "caxis": {
            "gridcolor": "white",
            "linecolor": "white",
            "ticks": ""
           }
          },
          "title": {
           "x": 0.05
          },
          "xaxis": {
           "automargin": true,
           "gridcolor": "white",
           "linecolor": "white",
           "ticks": "",
           "title": {
            "standoff": 15
           },
           "zerolinecolor": "white",
           "zerolinewidth": 2
          },
          "yaxis": {
           "automargin": true,
           "gridcolor": "white",
           "linecolor": "white",
           "ticks": "",
           "title": {
            "standoff": 15
           },
           "zerolinecolor": "white",
           "zerolinewidth": 2
          }
         }
        },
        "title": {
         "font": {
          "color": "#8a8d93",
          "family": "Lato, sans-serif",
          "size": 30
         },
         "text": "<span style='font-size:45px; font-family:Times New Roman'>How common is Data Oriented Jobs?</span>"
        },
        "xaxis": {
         "anchor": "y",
         "domain": [
          0,
          1
         ],
         "title": {
          "text": "jenis"
         },
         "visible": false
        },
        "yaxis": {
         "anchor": "x",
         "categoryorder": "total ascending",
         "domain": [
          0,
          1
         ],
         "ticksuffix": "  ",
         "title": {
          "text": ""
         }
        }
       }
      },
      "text/html": [
       "<div>                            <div id=\"63c5a3bf-1904-49b5-a301-8c57ac55d19e\" class=\"plotly-graph-div\" style=\"height:450px; width:100%;\"></div>            <script type=\"text/javascript\">                require([\"plotly\"], function(Plotly) {                    window.PLOTLYENV=window.PLOTLYENV || {};                                    if (document.getElementById(\"63c5a3bf-1904-49b5-a301-8c57ac55d19e\")) {                    Plotly.newPlot(                        \"63c5a3bf-1904-49b5-a301-8c57ac55d19e\",                        [{\"alignmentgroup\":\"True\",\"legendgroup\":\"25.0%\",\"marker\":{\"color\":\"#334668\",\"pattern\":{\"shape\":\"\"},\"line\":{\"width\":0}},\"name\":\"25.0%\",\"offsetgroup\":\"25.0%\",\"orientation\":\"h\",\"showlegend\":true,\"text\":[\"25.0%\"],\"textposition\":\"auto\",\"x\":[24],\"xaxis\":\"x\",\"y\":[\"Rice\"],\"yaxis\":\"y\",\"type\":\"bar\"},{\"alignmentgroup\":\"True\",\"legendgroup\":\"11.46%\",\"marker\":{\"color\":\"#334668\",\"pattern\":{\"shape\":\"\"},\"line\":{\"width\":0}},\"name\":\"11.46%\",\"offsetgroup\":\"11.46%\",\"orientation\":\"h\",\"showlegend\":true,\"text\":[\"11.46%\"],\"textposition\":\"auto\",\"x\":[11],\"xaxis\":\"x\",\"y\":[\"Coffee\"],\"yaxis\":\"y\",\"type\":\"bar\"},{\"alignmentgroup\":\"True\",\"legendgroup\":\"7.29%\",\"marker\":{\"color\":\"#334668\",\"pattern\":{\"shape\":\"\"},\"line\":{\"width\":0}},\"name\":\"7.29%\",\"offsetgroup\":\"7.29%\",\"orientation\":\"h\",\"showlegend\":true,\"text\":[\"7.29%\",\"7.29%\"],\"textposition\":\"auto\",\"x\":[7,7],\"xaxis\":\"x\",\"y\":[\"Satay\",\"Beverages\"],\"yaxis\":\"y\",\"type\":\"bar\"},{\"alignmentgroup\":\"True\",\"legendgroup\":\"6.25%\",\"marker\":{\"color\":\"#91A2BF\",\"pattern\":{\"shape\":\"\"},\"line\":{\"width\":0}},\"name\":\"6.25%\",\"offsetgroup\":\"6.25%\",\"orientation\":\"h\",\"showlegend\":true,\"text\":[\"6.25%\",\"6.25%\"],\"textposition\":\"auto\",\"x\":[6,6],\"xaxis\":\"x\",\"y\":[\"Chicken\",\"Bakso & Soto\"],\"yaxis\":\"y\",\"type\":\"bar\"},{\"alignmentgroup\":\"True\",\"legendgroup\":\"5.21%\",\"marker\":{\"color\":\"#91A2BF\",\"pattern\":{\"shape\":\"\"},\"line\":{\"width\":0}},\"name\":\"5.21%\",\"offsetgroup\":\"5.21%\",\"orientation\":\"h\",\"showlegend\":true,\"text\":[\"5.21%\",\"5.21%\"],\"textposition\":\"auto\",\"x\":[5,5],\"xaxis\":\"x\",\"y\":[\"Indonesian\",\"Breakfast\"],\"yaxis\":\"y\",\"type\":\"bar\"},{\"alignmentgroup\":\"True\",\"legendgroup\":\"3.12%\",\"marker\":{\"color\":\"#91A2BF\",\"pattern\":{\"shape\":\"\"},\"line\":{\"width\":0}},\"name\":\"3.12%\",\"offsetgroup\":\"3.12%\",\"orientation\":\"h\",\"showlegend\":true,\"text\":[\"3.12%\"],\"textposition\":\"auto\",\"x\":[3],\"xaxis\":\"x\",\"y\":[\"Noodles\"],\"yaxis\":\"y\",\"type\":\"bar\"},{\"alignmentgroup\":\"True\",\"legendgroup\":\"2.08%\",\"marker\":{\"color\":\"#91A2BF\",\"pattern\":{\"shape\":\"\"},\"line\":{\"width\":0}},\"name\":\"2.08%\",\"offsetgroup\":\"2.08%\",\"orientation\":\"h\",\"showlegend\":true,\"text\":[\"2.08%\",\"2.08%\",\"2.08%\",\"2.08%\",\"2.08%\",\"2.08%\",\"2.08%\"],\"textposition\":\"auto\",\"x\":[2,2,2,2,2,2,2],\"xaxis\":\"x\",\"y\":[\"Seafood\",\"Fast Food\",\"Padang\",\"Beef\",\"Japanese\",\"Specialty Store\",\"Snack\"],\"yaxis\":\"y\",\"type\":\"bar\"},{\"alignmentgroup\":\"True\",\"legendgroup\":\"1.04%\",\"marker\":{\"color\":\"#91A2BF\",\"pattern\":{\"shape\":\"\"},\"line\":{\"width\":0}},\"name\":\"1.04%\",\"offsetgroup\":\"1.04%\",\"orientation\":\"h\",\"showlegend\":true,\"text\":[\"1.04%\",\"1.04%\",\"1.04%\",\"1.04%\",\"1.04%\",\"1.04%\",\"1.04%\",\"1.04%\"],\"textposition\":\"auto\",\"x\":[1,1,1,1,1,1,1,1],\"xaxis\":\"x\",\"y\":[\"Bakery & Cake\",\"Cemilan\",\"Pencuci Mulut\",\"International\",\"Aneka Nasi\",\"Convenience Store\",\"Dessert\",\"Chinese\"],\"yaxis\":\"y\",\"type\":\"bar\"}],                        {\"template\":{\"data\":{\"histogram2dcontour\":[{\"type\":\"histogram2dcontour\",\"colorbar\":{\"outlinewidth\":0,\"ticks\":\"\"},\"colorscale\":[[0.0,\"#0d0887\"],[0.1111111111111111,\"#46039f\"],[0.2222222222222222,\"#7201a8\"],[0.3333333333333333,\"#9c179e\"],[0.4444444444444444,\"#bd3786\"],[0.5555555555555556,\"#d8576b\"],[0.6666666666666666,\"#ed7953\"],[0.7777777777777778,\"#fb9f3a\"],[0.8888888888888888,\"#fdca26\"],[1.0,\"#f0f921\"]]}],\"choropleth\":[{\"type\":\"choropleth\",\"colorbar\":{\"outlinewidth\":0,\"ticks\":\"\"}}],\"histogram2d\":[{\"type\":\"histogram2d\",\"colorbar\":{\"outlinewidth\":0,\"ticks\":\"\"},\"colorscale\":[[0.0,\"#0d0887\"],[0.1111111111111111,\"#46039f\"],[0.2222222222222222,\"#7201a8\"],[0.3333333333333333,\"#9c179e\"],[0.4444444444444444,\"#bd3786\"],[0.5555555555555556,\"#d8576b\"],[0.6666666666666666,\"#ed7953\"],[0.7777777777777778,\"#fb9f3a\"],[0.8888888888888888,\"#fdca26\"],[1.0,\"#f0f921\"]]}],\"heatmap\":[{\"type\":\"heatmap\",\"colorbar\":{\"outlinewidth\":0,\"ticks\":\"\"},\"colorscale\":[[0.0,\"#0d0887\"],[0.1111111111111111,\"#46039f\"],[0.2222222222222222,\"#7201a8\"],[0.3333333333333333,\"#9c179e\"],[0.4444444444444444,\"#bd3786\"],[0.5555555555555556,\"#d8576b\"],[0.6666666666666666,\"#ed7953\"],[0.7777777777777778,\"#fb9f3a\"],[0.8888888888888888,\"#fdca26\"],[1.0,\"#f0f921\"]]}],\"heatmapgl\":[{\"type\":\"heatmapgl\",\"colorbar\":{\"outlinewidth\":0,\"ticks\":\"\"},\"colorscale\":[[0.0,\"#0d0887\"],[0.1111111111111111,\"#46039f\"],[0.2222222222222222,\"#7201a8\"],[0.3333333333333333,\"#9c179e\"],[0.4444444444444444,\"#bd3786\"],[0.5555555555555556,\"#d8576b\"],[0.6666666666666666,\"#ed7953\"],[0.7777777777777778,\"#fb9f3a\"],[0.8888888888888888,\"#fdca26\"],[1.0,\"#f0f921\"]]}],\"contourcarpet\":[{\"type\":\"contourcarpet\",\"colorbar\":{\"outlinewidth\":0,\"ticks\":\"\"}}],\"contour\":[{\"type\":\"contour\",\"colorbar\":{\"outlinewidth\":0,\"ticks\":\"\"},\"colorscale\":[[0.0,\"#0d0887\"],[0.1111111111111111,\"#46039f\"],[0.2222222222222222,\"#7201a8\"],[0.3333333333333333,\"#9c179e\"],[0.4444444444444444,\"#bd3786\"],[0.5555555555555556,\"#d8576b\"],[0.6666666666666666,\"#ed7953\"],[0.7777777777777778,\"#fb9f3a\"],[0.8888888888888888,\"#fdca26\"],[1.0,\"#f0f921\"]]}],\"surface\":[{\"type\":\"surface\",\"colorbar\":{\"outlinewidth\":0,\"ticks\":\"\"},\"colorscale\":[[0.0,\"#0d0887\"],[0.1111111111111111,\"#46039f\"],[0.2222222222222222,\"#7201a8\"],[0.3333333333333333,\"#9c179e\"],[0.4444444444444444,\"#bd3786\"],[0.5555555555555556,\"#d8576b\"],[0.6666666666666666,\"#ed7953\"],[0.7777777777777778,\"#fb9f3a\"],[0.8888888888888888,\"#fdca26\"],[1.0,\"#f0f921\"]]}],\"mesh3d\":[{\"type\":\"mesh3d\",\"colorbar\":{\"outlinewidth\":0,\"ticks\":\"\"}}],\"scatter\":[{\"fillpattern\":{\"fillmode\":\"overlay\",\"size\":10,\"solidity\":0.2},\"type\":\"scatter\"}],\"parcoords\":[{\"type\":\"parcoords\",\"line\":{\"colorbar\":{\"outlinewidth\":0,\"ticks\":\"\"}}}],\"scatterpolargl\":[{\"type\":\"scatterpolargl\",\"marker\":{\"colorbar\":{\"outlinewidth\":0,\"ticks\":\"\"}}}],\"bar\":[{\"error_x\":{\"color\":\"#2a3f5f\"},\"error_y\":{\"color\":\"#2a3f5f\"},\"marker\":{\"line\":{\"color\":\"#E5ECF6\",\"width\":0.5},\"pattern\":{\"fillmode\":\"overlay\",\"size\":10,\"solidity\":0.2}},\"type\":\"bar\"}],\"scattergeo\":[{\"type\":\"scattergeo\",\"marker\":{\"colorbar\":{\"outlinewidth\":0,\"ticks\":\"\"}}}],\"scatterpolar\":[{\"type\":\"scatterpolar\",\"marker\":{\"colorbar\":{\"outlinewidth\":0,\"ticks\":\"\"}}}],\"histogram\":[{\"marker\":{\"pattern\":{\"fillmode\":\"overlay\",\"size\":10,\"solidity\":0.2}},\"type\":\"histogram\"}],\"scattergl\":[{\"type\":\"scattergl\",\"marker\":{\"colorbar\":{\"outlinewidth\":0,\"ticks\":\"\"}}}],\"scatter3d\":[{\"type\":\"scatter3d\",\"line\":{\"colorbar\":{\"outlinewidth\":0,\"ticks\":\"\"}},\"marker\":{\"colorbar\":{\"outlinewidth\":0,\"ticks\":\"\"}}}],\"scattermapbox\":[{\"type\":\"scattermapbox\",\"marker\":{\"colorbar\":{\"outlinewidth\":0,\"ticks\":\"\"}}}],\"scatterternary\":[{\"type\":\"scatterternary\",\"marker\":{\"colorbar\":{\"outlinewidth\":0,\"ticks\":\"\"}}}],\"scattercarpet\":[{\"type\":\"scattercarpet\",\"marker\":{\"colorbar\":{\"outlinewidth\":0,\"ticks\":\"\"}}}],\"carpet\":[{\"aaxis\":{\"endlinecolor\":\"#2a3f5f\",\"gridcolor\":\"white\",\"linecolor\":\"white\",\"minorgridcolor\":\"white\",\"startlinecolor\":\"#2a3f5f\"},\"baxis\":{\"endlinecolor\":\"#2a3f5f\",\"gridcolor\":\"white\",\"linecolor\":\"white\",\"minorgridcolor\":\"white\",\"startlinecolor\":\"#2a3f5f\"},\"type\":\"carpet\"}],\"table\":[{\"cells\":{\"fill\":{\"color\":\"#EBF0F8\"},\"line\":{\"color\":\"white\"}},\"header\":{\"fill\":{\"color\":\"#C8D4E3\"},\"line\":{\"color\":\"white\"}},\"type\":\"table\"}],\"barpolar\":[{\"marker\":{\"line\":{\"color\":\"#E5ECF6\",\"width\":0.5},\"pattern\":{\"fillmode\":\"overlay\",\"size\":10,\"solidity\":0.2}},\"type\":\"barpolar\"}],\"pie\":[{\"automargin\":true,\"type\":\"pie\"}]},\"layout\":{\"autotypenumbers\":\"strict\",\"colorway\":[\"#636efa\",\"#EF553B\",\"#00cc96\",\"#ab63fa\",\"#FFA15A\",\"#19d3f3\",\"#FF6692\",\"#B6E880\",\"#FF97FF\",\"#FECB52\"],\"font\":{\"color\":\"#2a3f5f\"},\"hovermode\":\"closest\",\"hoverlabel\":{\"align\":\"left\"},\"paper_bgcolor\":\"white\",\"plot_bgcolor\":\"#E5ECF6\",\"polar\":{\"bgcolor\":\"#E5ECF6\",\"angularaxis\":{\"gridcolor\":\"white\",\"linecolor\":\"white\",\"ticks\":\"\"},\"radialaxis\":{\"gridcolor\":\"white\",\"linecolor\":\"white\",\"ticks\":\"\"}},\"ternary\":{\"bgcolor\":\"#E5ECF6\",\"aaxis\":{\"gridcolor\":\"white\",\"linecolor\":\"white\",\"ticks\":\"\"},\"baxis\":{\"gridcolor\":\"white\",\"linecolor\":\"white\",\"ticks\":\"\"},\"caxis\":{\"gridcolor\":\"white\",\"linecolor\":\"white\",\"ticks\":\"\"}},\"coloraxis\":{\"colorbar\":{\"outlinewidth\":0,\"ticks\":\"\"}},\"colorscale\":{\"sequential\":[[0.0,\"#0d0887\"],[0.1111111111111111,\"#46039f\"],[0.2222222222222222,\"#7201a8\"],[0.3333333333333333,\"#9c179e\"],[0.4444444444444444,\"#bd3786\"],[0.5555555555555556,\"#d8576b\"],[0.6666666666666666,\"#ed7953\"],[0.7777777777777778,\"#fb9f3a\"],[0.8888888888888888,\"#fdca26\"],[1.0,\"#f0f921\"]],\"sequentialminus\":[[0.0,\"#0d0887\"],[0.1111111111111111,\"#46039f\"],[0.2222222222222222,\"#7201a8\"],[0.3333333333333333,\"#9c179e\"],[0.4444444444444444,\"#bd3786\"],[0.5555555555555556,\"#d8576b\"],[0.6666666666666666,\"#ed7953\"],[0.7777777777777778,\"#fb9f3a\"],[0.8888888888888888,\"#fdca26\"],[1.0,\"#f0f921\"]],\"diverging\":[[0,\"#8e0152\"],[0.1,\"#c51b7d\"],[0.2,\"#de77ae\"],[0.3,\"#f1b6da\"],[0.4,\"#fde0ef\"],[0.5,\"#f7f7f7\"],[0.6,\"#e6f5d0\"],[0.7,\"#b8e186\"],[0.8,\"#7fbc41\"],[0.9,\"#4d9221\"],[1,\"#276419\"]]},\"xaxis\":{\"gridcolor\":\"white\",\"linecolor\":\"white\",\"ticks\":\"\",\"title\":{\"standoff\":15},\"zerolinecolor\":\"white\",\"automargin\":true,\"zerolinewidth\":2},\"yaxis\":{\"gridcolor\":\"white\",\"linecolor\":\"white\",\"ticks\":\"\",\"title\":{\"standoff\":15},\"zerolinecolor\":\"white\",\"automargin\":true,\"zerolinewidth\":2},\"scene\":{\"xaxis\":{\"backgroundcolor\":\"#E5ECF6\",\"gridcolor\":\"white\",\"linecolor\":\"white\",\"showbackground\":true,\"ticks\":\"\",\"zerolinecolor\":\"white\",\"gridwidth\":2},\"yaxis\":{\"backgroundcolor\":\"#E5ECF6\",\"gridcolor\":\"white\",\"linecolor\":\"white\",\"showbackground\":true,\"ticks\":\"\",\"zerolinecolor\":\"white\",\"gridwidth\":2},\"zaxis\":{\"backgroundcolor\":\"#E5ECF6\",\"gridcolor\":\"white\",\"linecolor\":\"white\",\"showbackground\":true,\"ticks\":\"\",\"zerolinecolor\":\"white\",\"gridwidth\":2}},\"shapedefaults\":{\"line\":{\"color\":\"#2a3f5f\"}},\"annotationdefaults\":{\"arrowcolor\":\"#2a3f5f\",\"arrowhead\":0,\"arrowwidth\":1},\"geo\":{\"bgcolor\":\"white\",\"landcolor\":\"#E5ECF6\",\"subunitcolor\":\"white\",\"showland\":true,\"showlakes\":true,\"lakecolor\":\"white\"},\"title\":{\"x\":0.05},\"mapbox\":{\"style\":\"light\"}}},\"xaxis\":{\"anchor\":\"y\",\"domain\":[0.0,1.0],\"title\":{\"text\":\"jenis\"},\"visible\":false},\"yaxis\":{\"anchor\":\"x\",\"domain\":[0.0,1.0],\"title\":{\"text\":\"\"},\"categoryorder\":\"total ascending\",\"ticksuffix\":\"  \"},\"legend\":{\"title\":{\"text\":\"per\"},\"tracegroupgap\":0},\"margin\":{\"t\":90,\"b\":40,\"l\":0,\"r\":0},\"barmode\":\"relative\",\"title\":{\"text\":\"<span style='font-size:45px; font-family:Times New Roman'>How common is Data Oriented Jobs?</span>\",\"font\":{\"size\":30,\"color\":\"#8a8d93\",\"family\":\"Lato, sans-serif\"}},\"font\":{\"size\":13,\"color\":\"#8a8d93\"},\"height\":450,\"hovermode\":\"y unified\",\"showlegend\":false,\"plot_bgcolor\":\"#333\",\"paper_bgcolor\":\"#333\"},                        {\"responsive\": true}                    ).then(function(){\n",
       "                            \n",
       "var gd = document.getElementById('63c5a3bf-1904-49b5-a301-8c57ac55d19e');\n",
       "var x = new MutationObserver(function (mutations, observer) {{\n",
       "        var display = window.getComputedStyle(gd).display;\n",
       "        if (!display || display === 'none') {{\n",
       "            console.log([gd, 'removed!']);\n",
       "            Plotly.purge(gd);\n",
       "            observer.disconnect();\n",
       "        }}\n",
       "}});\n",
       "\n",
       "// Listen for the removal of the full notebook cells\n",
       "var notebookContainer = gd.closest('#notebook-container');\n",
       "if (notebookContainer) {{\n",
       "    x.observe(notebookContainer, {childList: true});\n",
       "}}\n",
       "\n",
       "// Listen for the clearing of the current output cell\n",
       "var outputEl = gd.closest('.output');\n",
       "if (outputEl) {{\n",
       "    x.observe(outputEl, {childList: true});\n",
       "}}\n",
       "\n",
       "                        })                };                });            </script>        </div>"
      ]
     },
     "metadata": {},
     "output_type": "display_data"
    }
   ],
   "source": [
    "# data\n",
    "df_q5 = resto['jenis'].value_counts().reset_index()\n",
    "df_q5['per'] = ((df_q5['jenis'] / df_q5['jenis'].sum())*100).round(2).astype(str) + '%'\n",
    "\n",
    "# chart\n",
    "fig = px.bar(df_q5, y='index', x='jenis', text='per', color='per', \n",
    "             color_discrete_sequence=['#334668','#334668','#334668','#91A2BF','#91A2BF','#91A2BF','#91A2BF',\n",
    "                                     '#91A2BF','#91A2BF','#91A2BF','#91A2BF','#91A2BF']\n",
    "            )\n",
    "# styling\n",
    "fig.update_xaxes(visible=False)\n",
    "fig.update_yaxes(categoryorder='total ascending', ticksuffix='  ')\n",
    "fig.update_traces(hovertemplate=None, marker=dict(line=dict(width=0)))\n",
    "fig.update_layout(height=450, yaxis_title='', hovermode='y unified', showlegend=False,\n",
    "                  title=\"<span style='font-size:45px; font-family:Times New Roman'>How common is Data Oriented Jobs?</span>\",\n",
    "                  margin=dict(t=90, b=40, l=0, r=0),               \n",
    "                  plot_bgcolor='#333', paper_bgcolor='#333',\n",
    "                  title_font=dict(size=30, color='#8a8d93', family=\"Lato, sans-serif\"),\n",
    "                  font=dict(size=13, color='#8a8d93'))\n",
    "fig.show()"
   ]
  },
  {
   "cell_type": "code",
   "execution_count": null,
   "metadata": {},
   "outputs": [],
   "source": [
    "rating = pd.DataFrame({'Order': data.groupby('Order ID')['Years'].unique().value_counts().sort_index(), \n",
    "                              'Sales' : data.groupby('Years')['Sales'].sum()})\n",
    "ord_sales_year"
   ]
  },
  {
   "cell_type": "code",
   "execution_count": 84,
   "metadata": {},
   "outputs": [
    {
     "data": {
      "text/html": [
       "<div>\n",
       "<style scoped>\n",
       "    .dataframe tbody tr th:only-of-type {\n",
       "        vertical-align: middle;\n",
       "    }\n",
       "\n",
       "    .dataframe tbody tr th {\n",
       "        vertical-align: top;\n",
       "    }\n",
       "\n",
       "    .dataframe thead th {\n",
       "        text-align: right;\n",
       "    }\n",
       "</style>\n",
       "<table border=\"1\" class=\"dataframe\">\n",
       "  <thead>\n",
       "    <tr style=\"text-align: right;\">\n",
       "      <th></th>\n",
       "      <th>index</th>\n",
       "      <th>jenis</th>\n",
       "    </tr>\n",
       "  </thead>\n",
       "  <tbody>\n",
       "    <tr>\n",
       "      <th>0</th>\n",
       "      <td>0</td>\n",
       "      <td>Chicken</td>\n",
       "    </tr>\n",
       "    <tr>\n",
       "      <th>1</th>\n",
       "      <td>123</td>\n",
       "      <td>Rice</td>\n",
       "    </tr>\n",
       "    <tr>\n",
       "      <th>2</th>\n",
       "      <td>160</td>\n",
       "      <td>Breakfast</td>\n",
       "    </tr>\n",
       "    <tr>\n",
       "      <th>3</th>\n",
       "      <td>175</td>\n",
       "      <td>Breakfast</td>\n",
       "    </tr>\n",
       "    <tr>\n",
       "      <th>4</th>\n",
       "      <td>183</td>\n",
       "      <td>Coffee</td>\n",
       "    </tr>\n",
       "    <tr>\n",
       "      <th>...</th>\n",
       "      <td>...</td>\n",
       "      <td>...</td>\n",
       "    </tr>\n",
       "    <tr>\n",
       "      <th>91</th>\n",
       "      <td>5605</td>\n",
       "      <td>Rice</td>\n",
       "    </tr>\n",
       "    <tr>\n",
       "      <th>92</th>\n",
       "      <td>5701</td>\n",
       "      <td>Bakso &amp; Soto</td>\n",
       "    </tr>\n",
       "    <tr>\n",
       "      <th>93</th>\n",
       "      <td>5708</td>\n",
       "      <td>Satay</td>\n",
       "    </tr>\n",
       "    <tr>\n",
       "      <th>94</th>\n",
       "      <td>5712</td>\n",
       "      <td>Seafood</td>\n",
       "    </tr>\n",
       "    <tr>\n",
       "      <th>95</th>\n",
       "      <td>5805</td>\n",
       "      <td>Padang</td>\n",
       "    </tr>\n",
       "  </tbody>\n",
       "</table>\n",
       "<p>96 rows × 2 columns</p>\n",
       "</div>"
      ],
      "text/plain": [
       "    index         jenis\n",
       "0       0       Chicken\n",
       "1     123          Rice\n",
       "2     160     Breakfast\n",
       "3     175     Breakfast\n",
       "4     183        Coffee\n",
       "..    ...           ...\n",
       "91   5605          Rice\n",
       "92   5701  Bakso & Soto\n",
       "93   5708         Satay\n",
       "94   5712       Seafood\n",
       "95   5805        Padang\n",
       "\n",
       "[96 rows x 2 columns]"
      ]
     },
     "execution_count": 84,
     "metadata": {},
     "output_type": "execute_result"
    }
   ],
   "source": [
    "df_q5"
   ]
  },
  {
   "cell_type": "code",
   "execution_count": null,
   "metadata": {},
   "outputs": [],
   "source": [
    "resto"
   ]
  },
  {
   "cell_type": "code",
   "execution_count": null,
   "metadata": {},
   "outputs": [],
   "source": [
    "stopwords = set(STOPWORDS)\n",
    "def show_wordcloud(data, title = None):\n",
    "    wordcloud = WordCloud(\n",
    "        background_color='white',\n",
    "        stopwords=stopwords,\n",
    "        max_words=200,\n",
    "        max_font_size=40, \n",
    "        scale=5,\n",
    "        random_state=1\n",
    "    ).generate(str(data))\n",
    "\n",
    "    fig = plt.figure(1, figsize=(10,10))\n",
    "    plt.axis('off')\n",
    "    if title: \n",
    "        fig.suptitle(title, fontsize=14)\n",
    "        fig.subplots_adjust(top=2.3)\n",
    "\n",
    "    plt.imshow(wordcloud)\n",
    "    plt.show()\n",
    "\n",
    "show_wordcloud(resto[\"Product Name\"], \"Wordcloud from product name\")"
   ]
  },
  {
   "cell_type": "code",
   "execution_count": 104,
   "metadata": {},
   "outputs": [
    {
     "ename": "KeyError",
     "evalue": "'resto'",
     "output_type": "error",
     "traceback": [
      "\u001b[1;31m---------------------------------------------------------------------------\u001b[0m",
      "\u001b[1;31mKeyError\u001b[0m                                  Traceback (most recent call last)",
      "File \u001b[1;32m~\\AppData\\Local\\Programs\\Python\\Python310\\lib\\site-packages\\pandas\\core\\indexes\\base.py:3621\u001b[0m, in \u001b[0;36mIndex.get_loc\u001b[1;34m(self, key, method, tolerance)\u001b[0m\n\u001b[0;32m   3620\u001b[0m \u001b[38;5;28;01mtry\u001b[39;00m:\n\u001b[1;32m-> 3621\u001b[0m     \u001b[38;5;28;01mreturn\u001b[39;00m \u001b[38;5;28;43mself\u001b[39;49m\u001b[38;5;241;43m.\u001b[39;49m\u001b[43m_engine\u001b[49m\u001b[38;5;241;43m.\u001b[39;49m\u001b[43mget_loc\u001b[49m\u001b[43m(\u001b[49m\u001b[43mcasted_key\u001b[49m\u001b[43m)\u001b[49m\n\u001b[0;32m   3622\u001b[0m \u001b[38;5;28;01mexcept\u001b[39;00m \u001b[38;5;167;01mKeyError\u001b[39;00m \u001b[38;5;28;01mas\u001b[39;00m err:\n",
      "File \u001b[1;32m~\\AppData\\Local\\Programs\\Python\\Python310\\lib\\site-packages\\pandas\\_libs\\index.pyx:136\u001b[0m, in \u001b[0;36mpandas._libs.index.IndexEngine.get_loc\u001b[1;34m()\u001b[0m\n",
      "File \u001b[1;32m~\\AppData\\Local\\Programs\\Python\\Python310\\lib\\site-packages\\pandas\\_libs\\index.pyx:163\u001b[0m, in \u001b[0;36mpandas._libs.index.IndexEngine.get_loc\u001b[1;34m()\u001b[0m\n",
      "File \u001b[1;32mpandas\\_libs\\hashtable_class_helper.pxi:5198\u001b[0m, in \u001b[0;36mpandas._libs.hashtable.PyObjectHashTable.get_item\u001b[1;34m()\u001b[0m\n",
      "File \u001b[1;32mpandas\\_libs\\hashtable_class_helper.pxi:5206\u001b[0m, in \u001b[0;36mpandas._libs.hashtable.PyObjectHashTable.get_item\u001b[1;34m()\u001b[0m\n",
      "\u001b[1;31mKeyError\u001b[0m: 'resto'",
      "\nThe above exception was the direct cause of the following exception:\n",
      "\u001b[1;31mKeyError\u001b[0m                                  Traceback (most recent call last)",
      "Input \u001b[1;32mIn [104]\u001b[0m, in \u001b[0;36m<cell line: 20>\u001b[1;34m()\u001b[0m\n\u001b[0;32m     11\u001b[0m fig \u001b[38;5;241m=\u001b[39m make_subplots(rows\u001b[38;5;241m=\u001b[39m\u001b[38;5;241m2\u001b[39m, cols\u001b[38;5;241m=\u001b[39m\u001b[38;5;241m2\u001b[39m, \n\u001b[0;32m     12\u001b[0m                     specs\u001b[38;5;241m=\u001b[39m[[{\u001b[38;5;124m\"\u001b[39m\u001b[38;5;124mtype\u001b[39m\u001b[38;5;124m\"\u001b[39m: \u001b[38;5;124m\"\u001b[39m\u001b[38;5;124mbar\u001b[39m\u001b[38;5;124m\"\u001b[39m}, {\u001b[38;5;124m\"\u001b[39m\u001b[38;5;124mtype\u001b[39m\u001b[38;5;124m\"\u001b[39m: \u001b[38;5;124m\"\u001b[39m\u001b[38;5;124mpie\u001b[39m\u001b[38;5;124m\"\u001b[39m}],\n\u001b[0;32m     13\u001b[0m                            [{\u001b[38;5;124m\"\u001b[39m\u001b[38;5;124mcolspan\u001b[39m\u001b[38;5;124m\"\u001b[39m: \u001b[38;5;241m2\u001b[39m}, \u001b[38;5;28;01mNone\u001b[39;00m]],\n\u001b[0;32m     14\u001b[0m                     column_widths\u001b[38;5;241m=\u001b[39m[\u001b[38;5;241m0.7\u001b[39m, \u001b[38;5;241m0.3\u001b[39m], vertical_spacing\u001b[38;5;241m=\u001b[39m\u001b[38;5;241m0\u001b[39m, horizontal_spacing\u001b[38;5;241m=\u001b[39m\u001b[38;5;241m0.02\u001b[39m,\n\u001b[0;32m     15\u001b[0m                     subplot_titles\u001b[38;5;241m=\u001b[39m(\u001b[38;5;124m\"\u001b[39m\u001b[38;5;124mTop 10 Highest Product Sales\u001b[39m\u001b[38;5;124m\"\u001b[39m, \u001b[38;5;124m\"\u001b[39m\u001b[38;5;124mHighest Sales in Stores\u001b[39m\u001b[38;5;124m\"\u001b[39m, \u001b[38;5;124m\"\u001b[39m\u001b[38;5;124mClusters Vs Sales\u001b[39m\u001b[38;5;124m\"\u001b[39m))\n\u001b[0;32m     17\u001b[0m \u001b[38;5;66;03m#fig.add_trace(go.Bar(x=df_fa_sa['sales'], y=df_fa_sa['family'], marker=dict(color= df_fa_sa['color']),\u001b[39;00m\n\u001b[0;32m     18\u001b[0m                      \u001b[38;5;66;03m#name='Family', orientation='h'), \u001b[39;00m\n\u001b[0;32m     19\u001b[0m                      \u001b[38;5;66;03m#row=1, col=1)\u001b[39;00m\n\u001b[1;32m---> 20\u001b[0m fig\u001b[38;5;241m.\u001b[39madd_trace(go\u001b[38;5;241m.\u001b[39mPie(values\u001b[38;5;241m=\u001b[39m\u001b[43mdf_st_sa\u001b[49m\u001b[43m[\u001b[49m\u001b[38;5;124;43m'\u001b[39;49m\u001b[38;5;124;43mresto\u001b[39;49m\u001b[38;5;124;43m'\u001b[39;49m\u001b[43m]\u001b[49m, labels\u001b[38;5;241m=\u001b[39mdf_st_sa[\u001b[38;5;124m'\u001b[39m\u001b[38;5;124mresto\u001b[39m\u001b[38;5;124m'\u001b[39m], name\u001b[38;5;241m=\u001b[39m\u001b[38;5;124m'\u001b[39m\u001b[38;5;124mresto type\u001b[39m\u001b[38;5;124m'\u001b[39m,\n\u001b[0;32m     21\u001b[0m                      marker\u001b[38;5;241m=\u001b[39m\u001b[38;5;28mdict\u001b[39m(colors\u001b[38;5;241m=\u001b[39m[\u001b[38;5;124m'\u001b[39m\u001b[38;5;124m#334668\u001b[39m\u001b[38;5;124m'\u001b[39m,\u001b[38;5;124m'\u001b[39m\u001b[38;5;124m#496595\u001b[39m\u001b[38;5;124m'\u001b[39m,\u001b[38;5;124m'\u001b[39m\u001b[38;5;124m#6D83AA\u001b[39m\u001b[38;5;124m'\u001b[39m,\u001b[38;5;124m'\u001b[39m\u001b[38;5;124m#91A2BF\u001b[39m\u001b[38;5;124m'\u001b[39m,\u001b[38;5;124m'\u001b[39m\u001b[38;5;124m#C8D0DF\u001b[39m\u001b[38;5;124m'\u001b[39m]), hole\u001b[38;5;241m=\u001b[39m\u001b[38;5;241m0.7\u001b[39m,\n\u001b[0;32m     22\u001b[0m                      hoverinfo\u001b[38;5;241m=\u001b[39m\u001b[38;5;124m'\u001b[39m\u001b[38;5;124mlabel+percent+value\u001b[39m\u001b[38;5;124m'\u001b[39m, textinfo\u001b[38;5;241m=\u001b[39m\u001b[38;5;124m'\u001b[39m\u001b[38;5;124mlabel\u001b[39m\u001b[38;5;124m'\u001b[39m), \n\u001b[0;32m     23\u001b[0m                     row\u001b[38;5;241m=\u001b[39m\u001b[38;5;241m1\u001b[39m, col\u001b[38;5;241m=\u001b[39m\u001b[38;5;241m2\u001b[39m)\n\u001b[0;32m     24\u001b[0m fig\u001b[38;5;241m.\u001b[39madd_trace(go\u001b[38;5;241m.\u001b[39mBar(x\u001b[38;5;241m=\u001b[39mdf_cl_sa[\u001b[38;5;124m'\u001b[39m\u001b[38;5;124mcluster\u001b[39m\u001b[38;5;124m'\u001b[39m], y\u001b[38;5;241m=\u001b[39mdf_cl_sa[\u001b[38;5;124m'\u001b[39m\u001b[38;5;124msales\u001b[39m\u001b[38;5;124m'\u001b[39m], \n\u001b[0;32m     25\u001b[0m                      marker\u001b[38;5;241m=\u001b[39m\u001b[38;5;28mdict\u001b[39m(color\u001b[38;5;241m=\u001b[39m df_cl_sa[\u001b[38;5;124m'\u001b[39m\u001b[38;5;124mcolor\u001b[39m\u001b[38;5;124m'\u001b[39m]), name\u001b[38;5;241m=\u001b[39m\u001b[38;5;124m'\u001b[39m\u001b[38;5;124mCluster\u001b[39m\u001b[38;5;124m'\u001b[39m), \n\u001b[0;32m     26\u001b[0m                      row\u001b[38;5;241m=\u001b[39m\u001b[38;5;241m2\u001b[39m, col\u001b[38;5;241m=\u001b[39m\u001b[38;5;241m1\u001b[39m)\n\u001b[0;32m     28\u001b[0m \u001b[38;5;66;03m# styling\u001b[39;00m\n",
      "File \u001b[1;32m~\\AppData\\Local\\Programs\\Python\\Python310\\lib\\site-packages\\pandas\\core\\frame.py:3505\u001b[0m, in \u001b[0;36mDataFrame.__getitem__\u001b[1;34m(self, key)\u001b[0m\n\u001b[0;32m   3503\u001b[0m \u001b[38;5;28;01mif\u001b[39;00m \u001b[38;5;28mself\u001b[39m\u001b[38;5;241m.\u001b[39mcolumns\u001b[38;5;241m.\u001b[39mnlevels \u001b[38;5;241m>\u001b[39m \u001b[38;5;241m1\u001b[39m:\n\u001b[0;32m   3504\u001b[0m     \u001b[38;5;28;01mreturn\u001b[39;00m \u001b[38;5;28mself\u001b[39m\u001b[38;5;241m.\u001b[39m_getitem_multilevel(key)\n\u001b[1;32m-> 3505\u001b[0m indexer \u001b[38;5;241m=\u001b[39m \u001b[38;5;28;43mself\u001b[39;49m\u001b[38;5;241;43m.\u001b[39;49m\u001b[43mcolumns\u001b[49m\u001b[38;5;241;43m.\u001b[39;49m\u001b[43mget_loc\u001b[49m\u001b[43m(\u001b[49m\u001b[43mkey\u001b[49m\u001b[43m)\u001b[49m\n\u001b[0;32m   3506\u001b[0m \u001b[38;5;28;01mif\u001b[39;00m is_integer(indexer):\n\u001b[0;32m   3507\u001b[0m     indexer \u001b[38;5;241m=\u001b[39m [indexer]\n",
      "File \u001b[1;32m~\\AppData\\Local\\Programs\\Python\\Python310\\lib\\site-packages\\pandas\\core\\indexes\\base.py:3623\u001b[0m, in \u001b[0;36mIndex.get_loc\u001b[1;34m(self, key, method, tolerance)\u001b[0m\n\u001b[0;32m   3621\u001b[0m     \u001b[38;5;28;01mreturn\u001b[39;00m \u001b[38;5;28mself\u001b[39m\u001b[38;5;241m.\u001b[39m_engine\u001b[38;5;241m.\u001b[39mget_loc(casted_key)\n\u001b[0;32m   3622\u001b[0m \u001b[38;5;28;01mexcept\u001b[39;00m \u001b[38;5;167;01mKeyError\u001b[39;00m \u001b[38;5;28;01mas\u001b[39;00m err:\n\u001b[1;32m-> 3623\u001b[0m     \u001b[38;5;28;01mraise\u001b[39;00m \u001b[38;5;167;01mKeyError\u001b[39;00m(key) \u001b[38;5;28;01mfrom\u001b[39;00m \u001b[38;5;21;01merr\u001b[39;00m\n\u001b[0;32m   3624\u001b[0m \u001b[38;5;28;01mexcept\u001b[39;00m \u001b[38;5;167;01mTypeError\u001b[39;00m:\n\u001b[0;32m   3625\u001b[0m     \u001b[38;5;66;03m# If we have a listlike key, _check_indexing_error will raise\u001b[39;00m\n\u001b[0;32m   3626\u001b[0m     \u001b[38;5;66;03m#  InvalidIndexError. Otherwise we fall through and re-raise\u001b[39;00m\n\u001b[0;32m   3627\u001b[0m     \u001b[38;5;66;03m#  the TypeError.\u001b[39;00m\n\u001b[0;32m   3628\u001b[0m     \u001b[38;5;28mself\u001b[39m\u001b[38;5;241m.\u001b[39m_check_indexing_error(key)\n",
      "\u001b[1;31mKeyError\u001b[0m: 'resto'"
     ]
    }
   ],
   "source": [
    "# data\n",
    "df_st_sa = resto.groupby('jenis').agg({\"rating_resto\" : \"mean\"}).reset_index().sort_values(by='rating_resto', ascending=False)\n",
    "#df_fa_sa = resto.groupby('family').agg({\"sales\" : \"mean\"}).reset_index().sort_values(by='sales', ascending=False)[:10]\n",
    "#df_cl_sa = resto.groupby('cluster').agg({\"sales\" : \"mean\"}).reset_index() \n",
    "# chart color\n",
    "#df_fa_sa['color'] = '#496595'\n",
    "#df_fa_sa['color'][2:] = '#c6ccd8'\n",
    "#df_cl_sa['color'] = '#c6ccd8'\n",
    "\n",
    "# chart\n",
    "fig = make_subplots(rows=2, cols=2, \n",
    "                    specs=[[{\"type\": \"bar\"}, {\"type\": \"pie\"}],\n",
    "                           [{\"colspan\": 2}, None]],\n",
    "                    column_widths=[0.7, 0.3], vertical_spacing=0, horizontal_spacing=0.02,\n",
    "                    subplot_titles=(\"Top 10 Highest Product Sales\", \"Highest Sales in Stores\", \"Clusters Vs Sales\"))\n",
    "\n",
    "#fig.add_trace(go.Bar(x=df_fa_sa['sales'], y=df_fa_sa['family'], marker=dict(color= df_fa_sa['color']),\n",
    "                     #name='Family', orientation='h'), \n",
    "                     #row=1, col=1)\n",
    "fig.add_trace(go.Pie(values=df_st_sa['resto'], labels=df_st_sa['resto'], name='resto type',\n",
    "                     marker=dict(colors=['#334668','#496595','#6D83AA','#91A2BF','#C8D0DF']), hole=0.7,\n",
    "                     hoverinfo='label+percent+value', textinfo='label'), \n",
    "                    row=1, col=2)\n",
    "fig.add_trace(go.Bar(x=df_cl_sa['cluster'], y=df_cl_sa['sales'], \n",
    "                     marker=dict(color= df_cl_sa['color']), name='Cluster'), \n",
    "                     row=2, col=1)\n",
    "\n",
    "# styling\n",
    "fig.update_yaxes(showgrid=False, ticksuffix=' ', categoryorder='total ascending', row=1, col=1)\n",
    "fig.update_xaxes(visible=False, row=1, col=1)\n",
    "#fig.update_xaxes(tickmode = 'array', tickvals=df_cl_sa.cluster, ticktext=[i for i in range(1,17)], row=2, col=1)\n",
    "fig.update_yaxes(visible=False, row=2, col=1)\n",
    "fig.update_layout(height=500, bargap=0.2,\n",
    "                  margin=dict(b=0,r=20,l=20), xaxis=dict(tickmode='linear'),\n",
    "                  title_text=\"Average Sales Analysis\",\n",
    "                  template=\"plotly_white\",\n",
    "                  title_font=dict(size=29, color='#8a8d93', family=\"Lato, sans-serif\"),\n",
    "                  font=dict(color='#8a8d93'), \n",
    "                  hoverlabel=dict(bgcolor=\"#f2f2f2\", font_size=13, font_family=\"Lato, sans-serif\"),\n",
    "                  showlegend=False)\n",
    "fig.show()"
   ]
  },
  {
   "cell_type": "code",
   "execution_count": 114,
   "metadata": {},
   "outputs": [],
   "source": [
    "rat = resto.groupby('jenis').agg({\"rating_resto\" : \"mean\"}).reset_index().sort_values(by='rating_resto', ascending=False)"
   ]
  },
  {
   "cell_type": "code",
   "execution_count": 115,
   "metadata": {},
   "outputs": [
    {
     "data": {
      "text/html": [
       "<div>\n",
       "<style scoped>\n",
       "    .dataframe tbody tr th:only-of-type {\n",
       "        vertical-align: middle;\n",
       "    }\n",
       "\n",
       "    .dataframe tbody tr th {\n",
       "        vertical-align: top;\n",
       "    }\n",
       "\n",
       "    .dataframe thead th {\n",
       "        text-align: right;\n",
       "    }\n",
       "</style>\n",
       "<table border=\"1\" class=\"dataframe\">\n",
       "  <thead>\n",
       "    <tr style=\"text-align: right;\">\n",
       "      <th></th>\n",
       "      <th>jenis</th>\n",
       "      <th>rating_resto</th>\n",
       "    </tr>\n",
       "  </thead>\n",
       "  <tbody>\n",
       "    <tr>\n",
       "      <th>16</th>\n",
       "      <td>Noodles</td>\n",
       "      <td>4.866667</td>\n",
       "    </tr>\n",
       "    <tr>\n",
       "      <th>21</th>\n",
       "      <td>Seafood</td>\n",
       "      <td>4.800000</td>\n",
       "    </tr>\n",
       "    <tr>\n",
       "      <th>3</th>\n",
       "      <td>Beef</td>\n",
       "      <td>4.800000</td>\n",
       "    </tr>\n",
       "    <tr>\n",
       "      <th>15</th>\n",
       "      <td>Japanese</td>\n",
       "      <td>4.800000</td>\n",
       "    </tr>\n",
       "    <tr>\n",
       "      <th>1</th>\n",
       "      <td>Bakery &amp; Cake</td>\n",
       "      <td>4.800000</td>\n",
       "    </tr>\n",
       "    <tr>\n",
       "      <th>8</th>\n",
       "      <td>Chinese</td>\n",
       "      <td>4.800000</td>\n",
       "    </tr>\n",
       "    <tr>\n",
       "      <th>10</th>\n",
       "      <td>Convenience Store</td>\n",
       "      <td>4.800000</td>\n",
       "    </tr>\n",
       "    <tr>\n",
       "      <th>14</th>\n",
       "      <td>International</td>\n",
       "      <td>4.700000</td>\n",
       "    </tr>\n",
       "    <tr>\n",
       "      <th>9</th>\n",
       "      <td>Coffee</td>\n",
       "      <td>4.654545</td>\n",
       "    </tr>\n",
       "    <tr>\n",
       "      <th>0</th>\n",
       "      <td>Aneka Nasi</td>\n",
       "      <td>4.600000</td>\n",
       "    </tr>\n",
       "    <tr>\n",
       "      <th>11</th>\n",
       "      <td>Dessert</td>\n",
       "      <td>4.600000</td>\n",
       "    </tr>\n",
       "    <tr>\n",
       "      <th>12</th>\n",
       "      <td>Fast Food</td>\n",
       "      <td>4.600000</td>\n",
       "    </tr>\n",
       "    <tr>\n",
       "      <th>6</th>\n",
       "      <td>Cemilan</td>\n",
       "      <td>4.400000</td>\n",
       "    </tr>\n",
       "    <tr>\n",
       "      <th>18</th>\n",
       "      <td>Pencuci Mulut</td>\n",
       "      <td>4.400000</td>\n",
       "    </tr>\n",
       "    <tr>\n",
       "      <th>20</th>\n",
       "      <td>Satay</td>\n",
       "      <td>4.357143</td>\n",
       "    </tr>\n",
       "    <tr>\n",
       "      <th>22</th>\n",
       "      <td>Snack</td>\n",
       "      <td>4.350000</td>\n",
       "    </tr>\n",
       "    <tr>\n",
       "      <th>5</th>\n",
       "      <td>Breakfast</td>\n",
       "      <td>3.880000</td>\n",
       "    </tr>\n",
       "    <tr>\n",
       "      <th>13</th>\n",
       "      <td>Indonesian</td>\n",
       "      <td>3.660000</td>\n",
       "    </tr>\n",
       "    <tr>\n",
       "      <th>4</th>\n",
       "      <td>Beverages</td>\n",
       "      <td>3.485714</td>\n",
       "    </tr>\n",
       "    <tr>\n",
       "      <th>7</th>\n",
       "      <td>Chicken</td>\n",
       "      <td>3.083333</td>\n",
       "    </tr>\n",
       "    <tr>\n",
       "      <th>19</th>\n",
       "      <td>Rice</td>\n",
       "      <td>2.991667</td>\n",
       "    </tr>\n",
       "    <tr>\n",
       "      <th>17</th>\n",
       "      <td>Padang</td>\n",
       "      <td>2.650000</td>\n",
       "    </tr>\n",
       "    <tr>\n",
       "      <th>23</th>\n",
       "      <td>Specialty Store</td>\n",
       "      <td>2.500000</td>\n",
       "    </tr>\n",
       "    <tr>\n",
       "      <th>2</th>\n",
       "      <td>Bakso &amp; Soto</td>\n",
       "      <td>1.583333</td>\n",
       "    </tr>\n",
       "  </tbody>\n",
       "</table>\n",
       "</div>"
      ],
      "text/plain": [
       "                jenis  rating_resto\n",
       "16            Noodles      4.866667\n",
       "21            Seafood      4.800000\n",
       "3                Beef      4.800000\n",
       "15           Japanese      4.800000\n",
       "1       Bakery & Cake      4.800000\n",
       "8             Chinese      4.800000\n",
       "10  Convenience Store      4.800000\n",
       "14      International      4.700000\n",
       "9              Coffee      4.654545\n",
       "0          Aneka Nasi      4.600000\n",
       "11            Dessert      4.600000\n",
       "12          Fast Food      4.600000\n",
       "6             Cemilan      4.400000\n",
       "18      Pencuci Mulut      4.400000\n",
       "20              Satay      4.357143\n",
       "22              Snack      4.350000\n",
       "5           Breakfast      3.880000\n",
       "13         Indonesian      3.660000\n",
       "4           Beverages      3.485714\n",
       "7             Chicken      3.083333\n",
       "19               Rice      2.991667\n",
       "17             Padang      2.650000\n",
       "23    Specialty Store      2.500000\n",
       "2        Bakso & Soto      1.583333"
      ]
     },
     "execution_count": 115,
     "metadata": {},
     "output_type": "execute_result"
    }
   ],
   "source": [
    "rat"
   ]
  },
  {
   "cell_type": "code",
   "execution_count": 128,
   "metadata": {},
   "outputs": [
    {
     "name": "stderr",
     "output_type": "stream",
     "text": [
      "C:\\Users\\Performance Mngmt\\AppData\\Local\\Programs\\Python\\Python310\\lib\\site-packages\\pandas\\core\\indexes\\multi.py:3635: RuntimeWarning:\n",
      "\n",
      "The values in the array are unorderable. Pass `sort=False` to suppress this warning.\n",
      "\n"
     ]
    },
    {
     "ename": "ValueError",
     "evalue": "Length of names must match number of levels in MultiIndex.",
     "output_type": "error",
     "traceback": [
      "\u001b[1;31m---------------------------------------------------------------------------\u001b[0m",
      "\u001b[1;31mValueError\u001b[0m                                Traceback (most recent call last)",
      "Input \u001b[1;32mIn [128]\u001b[0m, in \u001b[0;36m<cell line: 1>\u001b[1;34m()\u001b[0m\n\u001b[1;32m----> 1\u001b[0m state_perform \u001b[38;5;241m=\u001b[39m \u001b[43mpd\u001b[49m\u001b[38;5;241;43m.\u001b[39;49m\u001b[43mDataFrame\u001b[49m\u001b[43m(\u001b[49m\u001b[43m{\u001b[49m\u001b[38;5;124;43m'\u001b[39;49m\u001b[38;5;124;43mtotal\u001b[39;49m\u001b[38;5;124;43m'\u001b[39;49m\u001b[43m:\u001b[49m\u001b[43m \u001b[49m\u001b[43mresto\u001b[49m\u001b[38;5;241;43m.\u001b[39;49m\u001b[43mgroupby\u001b[49m\u001b[43m(\u001b[49m\u001b[38;5;124;43m'\u001b[39;49m\u001b[38;5;124;43mjenis\u001b[39;49m\u001b[38;5;124;43m'\u001b[39;49m\u001b[43m)\u001b[49m\u001b[38;5;241;43m.\u001b[39;49m\u001b[43mvalue_counts\u001b[49m\u001b[43m(\u001b[49m\u001b[43m)\u001b[49m\u001b[43m,\u001b[49m\u001b[43m \u001b[49m\n\u001b[0;32m      2\u001b[0m \u001b[43m                               \u001b[49m\u001b[38;5;124;43m'\u001b[39;49m\u001b[38;5;124;43mSales\u001b[39;49m\u001b[38;5;124;43m'\u001b[39;49m\u001b[43m:\u001b[49m\u001b[43m \u001b[49m\u001b[43mresto\u001b[49m\u001b[38;5;241;43m.\u001b[39;49m\u001b[43mgroupby\u001b[49m\u001b[43m(\u001b[49m\u001b[38;5;124;43m'\u001b[39;49m\u001b[38;5;124;43mjenis\u001b[39;49m\u001b[38;5;124;43m'\u001b[39;49m\u001b[43m)\u001b[49m\u001b[43m[\u001b[49m\u001b[38;5;124;43m'\u001b[39;49m\u001b[38;5;124;43mrating_resto\u001b[39;49m\u001b[38;5;124;43m'\u001b[39;49m\u001b[43m]\u001b[49m\u001b[38;5;241;43m.\u001b[39;49m\u001b[43msum\u001b[49m\u001b[43m(\u001b[49m\u001b[43m)\u001b[49m\u001b[43m}\u001b[49m\u001b[43m)\u001b[49m\n\u001b[0;32m      3\u001b[0m state_perform\u001b[38;5;241m.\u001b[39msort_values(by\u001b[38;5;241m=\u001b[39m\u001b[38;5;124m'\u001b[39m\u001b[38;5;124mSales\u001b[39m\u001b[38;5;124m'\u001b[39m, ascending\u001b[38;5;241m=\u001b[39m\u001b[38;5;28;01mFalse\u001b[39;00m)\n",
      "File \u001b[1;32m~\\AppData\\Local\\Programs\\Python\\Python310\\lib\\site-packages\\pandas\\core\\frame.py:636\u001b[0m, in \u001b[0;36mDataFrame.__init__\u001b[1;34m(self, data, index, columns, dtype, copy)\u001b[0m\n\u001b[0;32m    630\u001b[0m     mgr \u001b[38;5;241m=\u001b[39m \u001b[38;5;28mself\u001b[39m\u001b[38;5;241m.\u001b[39m_init_mgr(\n\u001b[0;32m    631\u001b[0m         data, axes\u001b[38;5;241m=\u001b[39m{\u001b[38;5;124m\"\u001b[39m\u001b[38;5;124mindex\u001b[39m\u001b[38;5;124m\"\u001b[39m: index, \u001b[38;5;124m\"\u001b[39m\u001b[38;5;124mcolumns\u001b[39m\u001b[38;5;124m\"\u001b[39m: columns}, dtype\u001b[38;5;241m=\u001b[39mdtype, copy\u001b[38;5;241m=\u001b[39mcopy\n\u001b[0;32m    632\u001b[0m     )\n\u001b[0;32m    634\u001b[0m \u001b[38;5;28;01melif\u001b[39;00m \u001b[38;5;28misinstance\u001b[39m(data, \u001b[38;5;28mdict\u001b[39m):\n\u001b[0;32m    635\u001b[0m     \u001b[38;5;66;03m# GH#38939 de facto copy defaults to False only in non-dict cases\u001b[39;00m\n\u001b[1;32m--> 636\u001b[0m     mgr \u001b[38;5;241m=\u001b[39m \u001b[43mdict_to_mgr\u001b[49m\u001b[43m(\u001b[49m\u001b[43mdata\u001b[49m\u001b[43m,\u001b[49m\u001b[43m \u001b[49m\u001b[43mindex\u001b[49m\u001b[43m,\u001b[49m\u001b[43m \u001b[49m\u001b[43mcolumns\u001b[49m\u001b[43m,\u001b[49m\u001b[43m \u001b[49m\u001b[43mdtype\u001b[49m\u001b[38;5;241;43m=\u001b[39;49m\u001b[43mdtype\u001b[49m\u001b[43m,\u001b[49m\u001b[43m \u001b[49m\u001b[43mcopy\u001b[49m\u001b[38;5;241;43m=\u001b[39;49m\u001b[43mcopy\u001b[49m\u001b[43m,\u001b[49m\u001b[43m \u001b[49m\u001b[43mtyp\u001b[49m\u001b[38;5;241;43m=\u001b[39;49m\u001b[43mmanager\u001b[49m\u001b[43m)\u001b[49m\n\u001b[0;32m    637\u001b[0m \u001b[38;5;28;01melif\u001b[39;00m \u001b[38;5;28misinstance\u001b[39m(data, ma\u001b[38;5;241m.\u001b[39mMaskedArray):\n\u001b[0;32m    638\u001b[0m     \u001b[38;5;28;01mimport\u001b[39;00m \u001b[38;5;21;01mnumpy\u001b[39;00m\u001b[38;5;21;01m.\u001b[39;00m\u001b[38;5;21;01mma\u001b[39;00m\u001b[38;5;21;01m.\u001b[39;00m\u001b[38;5;21;01mmrecords\u001b[39;00m \u001b[38;5;28;01mas\u001b[39;00m \u001b[38;5;21;01mmrecords\u001b[39;00m\n",
      "File \u001b[1;32m~\\AppData\\Local\\Programs\\Python\\Python310\\lib\\site-packages\\pandas\\core\\internals\\construction.py:502\u001b[0m, in \u001b[0;36mdict_to_mgr\u001b[1;34m(data, index, columns, dtype, typ, copy)\u001b[0m\n\u001b[0;32m    494\u001b[0m     arrays \u001b[38;5;241m=\u001b[39m [\n\u001b[0;32m    495\u001b[0m         x\n\u001b[0;32m    496\u001b[0m         \u001b[38;5;28;01mif\u001b[39;00m \u001b[38;5;129;01mnot\u001b[39;00m \u001b[38;5;28mhasattr\u001b[39m(x, \u001b[38;5;124m\"\u001b[39m\u001b[38;5;124mdtype\u001b[39m\u001b[38;5;124m\"\u001b[39m) \u001b[38;5;129;01mor\u001b[39;00m \u001b[38;5;129;01mnot\u001b[39;00m \u001b[38;5;28misinstance\u001b[39m(x\u001b[38;5;241m.\u001b[39mdtype, ExtensionDtype)\n\u001b[0;32m    497\u001b[0m         \u001b[38;5;28;01melse\u001b[39;00m x\u001b[38;5;241m.\u001b[39mcopy()\n\u001b[0;32m    498\u001b[0m         \u001b[38;5;28;01mfor\u001b[39;00m x \u001b[38;5;129;01min\u001b[39;00m arrays\n\u001b[0;32m    499\u001b[0m     ]\n\u001b[0;32m    500\u001b[0m     \u001b[38;5;66;03m# TODO: can we get rid of the dt64tz special case above?\u001b[39;00m\n\u001b[1;32m--> 502\u001b[0m \u001b[38;5;28;01mreturn\u001b[39;00m \u001b[43marrays_to_mgr\u001b[49m\u001b[43m(\u001b[49m\u001b[43marrays\u001b[49m\u001b[43m,\u001b[49m\u001b[43m \u001b[49m\u001b[43mcolumns\u001b[49m\u001b[43m,\u001b[49m\u001b[43m \u001b[49m\u001b[43mindex\u001b[49m\u001b[43m,\u001b[49m\u001b[43m \u001b[49m\u001b[43mdtype\u001b[49m\u001b[38;5;241;43m=\u001b[39;49m\u001b[43mdtype\u001b[49m\u001b[43m,\u001b[49m\u001b[43m \u001b[49m\u001b[43mtyp\u001b[49m\u001b[38;5;241;43m=\u001b[39;49m\u001b[43mtyp\u001b[49m\u001b[43m,\u001b[49m\u001b[43m \u001b[49m\u001b[43mconsolidate\u001b[49m\u001b[38;5;241;43m=\u001b[39;49m\u001b[43mcopy\u001b[49m\u001b[43m)\u001b[49m\n",
      "File \u001b[1;32m~\\AppData\\Local\\Programs\\Python\\Python310\\lib\\site-packages\\pandas\\core\\internals\\construction.py:120\u001b[0m, in \u001b[0;36marrays_to_mgr\u001b[1;34m(arrays, columns, index, dtype, verify_integrity, typ, consolidate)\u001b[0m\n\u001b[0;32m    117\u001b[0m \u001b[38;5;28;01mif\u001b[39;00m verify_integrity:\n\u001b[0;32m    118\u001b[0m     \u001b[38;5;66;03m# figure out the index, if necessary\u001b[39;00m\n\u001b[0;32m    119\u001b[0m     \u001b[38;5;28;01mif\u001b[39;00m index \u001b[38;5;129;01mis\u001b[39;00m \u001b[38;5;28;01mNone\u001b[39;00m:\n\u001b[1;32m--> 120\u001b[0m         index \u001b[38;5;241m=\u001b[39m \u001b[43m_extract_index\u001b[49m\u001b[43m(\u001b[49m\u001b[43marrays\u001b[49m\u001b[43m)\u001b[49m\n\u001b[0;32m    121\u001b[0m     \u001b[38;5;28;01melse\u001b[39;00m:\n\u001b[0;32m    122\u001b[0m         index \u001b[38;5;241m=\u001b[39m ensure_index(index)\n",
      "File \u001b[1;32m~\\AppData\\Local\\Programs\\Python\\Python310\\lib\\site-packages\\pandas\\core\\internals\\construction.py:667\u001b[0m, in \u001b[0;36m_extract_index\u001b[1;34m(data)\u001b[0m\n\u001b[0;32m    664\u001b[0m     \u001b[38;5;28;01mraise\u001b[39;00m \u001b[38;5;167;01mValueError\u001b[39;00m(\u001b[38;5;124m\"\u001b[39m\u001b[38;5;124mIf using all scalar values, you must pass an index\u001b[39m\u001b[38;5;124m\"\u001b[39m)\n\u001b[0;32m    666\u001b[0m \u001b[38;5;28;01melif\u001b[39;00m have_series:\n\u001b[1;32m--> 667\u001b[0m     index \u001b[38;5;241m=\u001b[39m \u001b[43munion_indexes\u001b[49m\u001b[43m(\u001b[49m\u001b[43mindexes\u001b[49m\u001b[43m)\u001b[49m\n\u001b[0;32m    668\u001b[0m \u001b[38;5;28;01melif\u001b[39;00m have_dicts:\n\u001b[0;32m    669\u001b[0m     index \u001b[38;5;241m=\u001b[39m union_indexes(indexes, sort\u001b[38;5;241m=\u001b[39m\u001b[38;5;28;01mFalse\u001b[39;00m)\n",
      "File \u001b[1;32m~\\AppData\\Local\\Programs\\Python\\Python310\\lib\\site-packages\\pandas\\core\\indexes\\api.py:250\u001b[0m, in \u001b[0;36munion_indexes\u001b[1;34m(indexes, sort)\u001b[0m\n\u001b[0;32m    247\u001b[0m         result \u001b[38;5;241m=\u001b[39m indexes[\u001b[38;5;241m0\u001b[39m]\n\u001b[0;32m    249\u001b[0m     \u001b[38;5;28;01mfor\u001b[39;00m other \u001b[38;5;129;01min\u001b[39;00m indexes[\u001b[38;5;241m1\u001b[39m:]:\n\u001b[1;32m--> 250\u001b[0m         result \u001b[38;5;241m=\u001b[39m \u001b[43mresult\u001b[49m\u001b[38;5;241;43m.\u001b[39;49m\u001b[43munion\u001b[49m\u001b[43m(\u001b[49m\u001b[43mother\u001b[49m\u001b[43m,\u001b[49m\u001b[43m \u001b[49m\u001b[43msort\u001b[49m\u001b[38;5;241;43m=\u001b[39;49m\u001b[38;5;28;43;01mNone\u001b[39;49;00m\u001b[43m \u001b[49m\u001b[38;5;28;43;01mif\u001b[39;49;00m\u001b[43m \u001b[49m\u001b[43msort\u001b[49m\u001b[43m \u001b[49m\u001b[38;5;28;43;01melse\u001b[39;49;00m\u001b[43m \u001b[49m\u001b[38;5;28;43;01mFalse\u001b[39;49;00m\u001b[43m)\u001b[49m\n\u001b[0;32m    251\u001b[0m     \u001b[38;5;28;01mreturn\u001b[39;00m result\n\u001b[0;32m    253\u001b[0m \u001b[38;5;28;01melif\u001b[39;00m kind \u001b[38;5;241m==\u001b[39m \u001b[38;5;124m\"\u001b[39m\u001b[38;5;124marray\u001b[39m\u001b[38;5;124m\"\u001b[39m:\n",
      "File \u001b[1;32m~\\AppData\\Local\\Programs\\Python\\Python310\\lib\\site-packages\\pandas\\core\\indexes\\base.py:3185\u001b[0m, in \u001b[0;36mIndex.union\u001b[1;34m(self, other, sort)\u001b[0m\n\u001b[0;32m   3182\u001b[0m \u001b[38;5;28;01melif\u001b[39;00m \u001b[38;5;129;01mnot\u001b[39;00m \u001b[38;5;28mlen\u001b[39m(\u001b[38;5;28mself\u001b[39m):\n\u001b[0;32m   3183\u001b[0m     \u001b[38;5;28;01mreturn\u001b[39;00m other\u001b[38;5;241m.\u001b[39m_get_reconciled_name_object(\u001b[38;5;28mself\u001b[39m)\n\u001b[1;32m-> 3185\u001b[0m result \u001b[38;5;241m=\u001b[39m \u001b[38;5;28;43mself\u001b[39;49m\u001b[38;5;241;43m.\u001b[39;49m\u001b[43m_union\u001b[49m\u001b[43m(\u001b[49m\u001b[43mother\u001b[49m\u001b[43m,\u001b[49m\u001b[43m \u001b[49m\u001b[43msort\u001b[49m\u001b[38;5;241;43m=\u001b[39;49m\u001b[43msort\u001b[49m\u001b[43m)\u001b[49m\n\u001b[0;32m   3187\u001b[0m \u001b[38;5;28;01mreturn\u001b[39;00m \u001b[38;5;28mself\u001b[39m\u001b[38;5;241m.\u001b[39m_wrap_setop_result(other, result)\n",
      "File \u001b[1;32m~\\AppData\\Local\\Programs\\Python\\Python310\\lib\\site-packages\\pandas\\core\\indexes\\multi.py:3637\u001b[0m, in \u001b[0;36mMultiIndex._union\u001b[1;34m(self, other, sort)\u001b[0m\n\u001b[0;32m   3634\u001b[0m     rvals \u001b[38;5;241m=\u001b[39m other\u001b[38;5;241m.\u001b[39m_values\u001b[38;5;241m.\u001b[39mastype(\u001b[38;5;28mobject\u001b[39m, copy\u001b[38;5;241m=\u001b[39m\u001b[38;5;28;01mFalse\u001b[39;00m)\n\u001b[0;32m   3635\u001b[0m     result \u001b[38;5;241m=\u001b[39m lib\u001b[38;5;241m.\u001b[39mfast_unique_multiple([\u001b[38;5;28mself\u001b[39m\u001b[38;5;241m.\u001b[39m_values, rvals], sort\u001b[38;5;241m=\u001b[39msort)\n\u001b[1;32m-> 3637\u001b[0m \u001b[38;5;28;01mreturn\u001b[39;00m \u001b[43mMultiIndex\u001b[49m\u001b[38;5;241;43m.\u001b[39;49m\u001b[43mfrom_arrays\u001b[49m\u001b[43m(\u001b[49m\u001b[38;5;28;43mzip\u001b[39;49m\u001b[43m(\u001b[49m\u001b[38;5;241;43m*\u001b[39;49m\u001b[43mresult\u001b[49m\u001b[43m)\u001b[49m\u001b[43m,\u001b[49m\u001b[43m \u001b[49m\u001b[43msortorder\u001b[49m\u001b[38;5;241;43m=\u001b[39;49m\u001b[38;5;28;43;01mNone\u001b[39;49;00m\u001b[43m,\u001b[49m\u001b[43m \u001b[49m\u001b[43mnames\u001b[49m\u001b[38;5;241;43m=\u001b[39;49m\u001b[43mresult_names\u001b[49m\u001b[43m)\u001b[49m\n",
      "File \u001b[1;32m~\\AppData\\Local\\Programs\\Python\\Python310\\lib\\site-packages\\pandas\\core\\indexes\\multi.py:493\u001b[0m, in \u001b[0;36mMultiIndex.from_arrays\u001b[1;34m(cls, arrays, sortorder, names)\u001b[0m\n\u001b[0;32m    490\u001b[0m \u001b[38;5;28;01mif\u001b[39;00m names \u001b[38;5;129;01mis\u001b[39;00m lib\u001b[38;5;241m.\u001b[39mno_default:\n\u001b[0;32m    491\u001b[0m     names \u001b[38;5;241m=\u001b[39m [\u001b[38;5;28mgetattr\u001b[39m(arr, \u001b[38;5;124m\"\u001b[39m\u001b[38;5;124mname\u001b[39m\u001b[38;5;124m\"\u001b[39m, \u001b[38;5;28;01mNone\u001b[39;00m) \u001b[38;5;28;01mfor\u001b[39;00m arr \u001b[38;5;129;01min\u001b[39;00m arrays]\n\u001b[1;32m--> 493\u001b[0m \u001b[38;5;28;01mreturn\u001b[39;00m \u001b[38;5;28;43mcls\u001b[39;49m\u001b[43m(\u001b[49m\n\u001b[0;32m    494\u001b[0m \u001b[43m    \u001b[49m\u001b[43mlevels\u001b[49m\u001b[38;5;241;43m=\u001b[39;49m\u001b[43mlevels\u001b[49m\u001b[43m,\u001b[49m\n\u001b[0;32m    495\u001b[0m \u001b[43m    \u001b[49m\u001b[43mcodes\u001b[49m\u001b[38;5;241;43m=\u001b[39;49m\u001b[43mcodes\u001b[49m\u001b[43m,\u001b[49m\n\u001b[0;32m    496\u001b[0m \u001b[43m    \u001b[49m\u001b[43msortorder\u001b[49m\u001b[38;5;241;43m=\u001b[39;49m\u001b[43msortorder\u001b[49m\u001b[43m,\u001b[49m\n\u001b[0;32m    497\u001b[0m \u001b[43m    \u001b[49m\u001b[43mnames\u001b[49m\u001b[38;5;241;43m=\u001b[39;49m\u001b[43mnames\u001b[49m\u001b[43m,\u001b[49m\n\u001b[0;32m    498\u001b[0m \u001b[43m    \u001b[49m\u001b[43mverify_integrity\u001b[49m\u001b[38;5;241;43m=\u001b[39;49m\u001b[38;5;28;43;01mFalse\u001b[39;49;00m\u001b[43m,\u001b[49m\n\u001b[0;32m    499\u001b[0m \u001b[43m\u001b[49m\u001b[43m)\u001b[49m\n",
      "File \u001b[1;32m~\\AppData\\Local\\Programs\\Python\\Python310\\lib\\site-packages\\pandas\\core\\indexes\\multi.py:335\u001b[0m, in \u001b[0;36mMultiIndex.__new__\u001b[1;34m(cls, levels, codes, sortorder, names, dtype, copy, name, verify_integrity)\u001b[0m\n\u001b[0;32m    332\u001b[0m result\u001b[38;5;241m.\u001b[39m_names \u001b[38;5;241m=\u001b[39m [\u001b[38;5;28;01mNone\u001b[39;00m] \u001b[38;5;241m*\u001b[39m \u001b[38;5;28mlen\u001b[39m(levels)  \u001b[38;5;66;03m# type: ignore[assignment]\u001b[39;00m\n\u001b[0;32m    333\u001b[0m \u001b[38;5;28;01mif\u001b[39;00m names \u001b[38;5;129;01mis\u001b[39;00m \u001b[38;5;129;01mnot\u001b[39;00m \u001b[38;5;28;01mNone\u001b[39;00m:\n\u001b[0;32m    334\u001b[0m     \u001b[38;5;66;03m# handles name validation\u001b[39;00m\n\u001b[1;32m--> 335\u001b[0m     \u001b[43mresult\u001b[49m\u001b[38;5;241;43m.\u001b[39;49m\u001b[43m_set_names\u001b[49m\u001b[43m(\u001b[49m\u001b[43mnames\u001b[49m\u001b[43m)\u001b[49m\n\u001b[0;32m    337\u001b[0m \u001b[38;5;28;01mif\u001b[39;00m sortorder \u001b[38;5;129;01mis\u001b[39;00m \u001b[38;5;129;01mnot\u001b[39;00m \u001b[38;5;28;01mNone\u001b[39;00m:\n\u001b[0;32m    338\u001b[0m     result\u001b[38;5;241m.\u001b[39msortorder \u001b[38;5;241m=\u001b[39m \u001b[38;5;28mint\u001b[39m(sortorder)\n",
      "File \u001b[1;32m~\\AppData\\Local\\Programs\\Python\\Python310\\lib\\site-packages\\pandas\\core\\indexes\\multi.py:1436\u001b[0m, in \u001b[0;36mMultiIndex._set_names\u001b[1;34m(self, names, level, validate)\u001b[0m\n\u001b[0;32m   1434\u001b[0m         \u001b[38;5;28;01mraise\u001b[39;00m \u001b[38;5;167;01mValueError\u001b[39;00m(\u001b[38;5;124m\"\u001b[39m\u001b[38;5;124mLength of names must match length of level.\u001b[39m\u001b[38;5;124m\"\u001b[39m)\n\u001b[0;32m   1435\u001b[0m     \u001b[38;5;28;01mif\u001b[39;00m level \u001b[38;5;129;01mis\u001b[39;00m \u001b[38;5;28;01mNone\u001b[39;00m \u001b[38;5;129;01mand\u001b[39;00m \u001b[38;5;28mlen\u001b[39m(names) \u001b[38;5;241m!=\u001b[39m \u001b[38;5;28mself\u001b[39m\u001b[38;5;241m.\u001b[39mnlevels:\n\u001b[1;32m-> 1436\u001b[0m         \u001b[38;5;28;01mraise\u001b[39;00m \u001b[38;5;167;01mValueError\u001b[39;00m(\n\u001b[0;32m   1437\u001b[0m             \u001b[38;5;124m\"\u001b[39m\u001b[38;5;124mLength of names must match number of levels in MultiIndex.\u001b[39m\u001b[38;5;124m\"\u001b[39m\n\u001b[0;32m   1438\u001b[0m         )\n\u001b[0;32m   1440\u001b[0m \u001b[38;5;28;01mif\u001b[39;00m level \u001b[38;5;129;01mis\u001b[39;00m \u001b[38;5;28;01mNone\u001b[39;00m:\n\u001b[0;32m   1441\u001b[0m     level \u001b[38;5;241m=\u001b[39m \u001b[38;5;28mrange\u001b[39m(\u001b[38;5;28mself\u001b[39m\u001b[38;5;241m.\u001b[39mnlevels)\n",
      "\u001b[1;31mValueError\u001b[0m: Length of names must match number of levels in MultiIndex."
     ]
    }
   ],
   "source": [
    "state_perform = pd.DataFrame({'total': resto.groupby('jenis').value_counts(), \n",
    "                               'Sales': resto.groupby('jenis')['rating_resto'].sum()})\n",
    "state_perform.sort_values(by='Sales', ascending=False)"
   ]
  },
  {
   "cell_type": "code",
   "execution_count": 124,
   "metadata": {},
   "outputs": [
    {
     "data": {
      "image/png": "[encoded data removed]",
      "text/plain": [
       "<Figure size 1440x576 with 1 Axes>"
      ]
     },
     "metadata": {
      "needs_background": "light"
     },
     "output_type": "display_data"
    }
   ],
   "source": [
    "#csne_not_unspecified = csne_counts[1:35]\n",
    "#csne_not_unspecified_top15 = csne_counts[1:16]\n",
    "\n",
    "plt.figure(figsize=(20,8))\n",
    "ax=sns.barplot(x=\"jenis\", y=\"rating_resto\", data=rat)\n",
    "ax.set_title('Kategori Makanan di Jakarta Pusat')\n",
    "plt.show()"
   ]
  },
  {
   "cell_type": "code",
   "execution_count": 129,
   "metadata": {},
   "outputs": [
    {
     "data": {
      "text/html": [
       "<div>\n",
       "<style scoped>\n",
       "    .dataframe tbody tr th:only-of-type {\n",
       "        vertical-align: middle;\n",
       "    }\n",
       "\n",
       "    .dataframe tbody tr th {\n",
       "        vertical-align: top;\n",
       "    }\n",
       "\n",
       "    .dataframe thead th {\n",
       "        text-align: right;\n",
       "    }\n",
       "</style>\n",
       "<table border=\"1\" class=\"dataframe\">\n",
       "  <thead>\n",
       "    <tr style=\"text-align: right;\">\n",
       "      <th></th>\n",
       "      <th>index</th>\n",
       "      <th>jenis</th>\n",
       "    </tr>\n",
       "  </thead>\n",
       "  <tbody>\n",
       "    <tr>\n",
       "      <th>0</th>\n",
       "      <td>Rice</td>\n",
       "      <td>24</td>\n",
       "    </tr>\n",
       "    <tr>\n",
       "      <th>1</th>\n",
       "      <td>Coffee</td>\n",
       "      <td>11</td>\n",
       "    </tr>\n",
       "    <tr>\n",
       "      <th>2</th>\n",
       "      <td>Satay</td>\n",
       "      <td>7</td>\n",
       "    </tr>\n",
       "    <tr>\n",
       "      <th>3</th>\n",
       "      <td>Beverages</td>\n",
       "      <td>7</td>\n",
       "    </tr>\n",
       "    <tr>\n",
       "      <th>4</th>\n",
       "      <td>Chicken</td>\n",
       "      <td>6</td>\n",
       "    </tr>\n",
       "    <tr>\n",
       "      <th>5</th>\n",
       "      <td>Bakso &amp; Soto</td>\n",
       "      <td>6</td>\n",
       "    </tr>\n",
       "    <tr>\n",
       "      <th>6</th>\n",
       "      <td>Indonesian</td>\n",
       "      <td>5</td>\n",
       "    </tr>\n",
       "    <tr>\n",
       "      <th>7</th>\n",
       "      <td>Breakfast</td>\n",
       "      <td>5</td>\n",
       "    </tr>\n",
       "    <tr>\n",
       "      <th>8</th>\n",
       "      <td>Noodles</td>\n",
       "      <td>3</td>\n",
       "    </tr>\n",
       "    <tr>\n",
       "      <th>9</th>\n",
       "      <td>Seafood</td>\n",
       "      <td>2</td>\n",
       "    </tr>\n",
       "    <tr>\n",
       "      <th>10</th>\n",
       "      <td>Fast Food</td>\n",
       "      <td>2</td>\n",
       "    </tr>\n",
       "    <tr>\n",
       "      <th>11</th>\n",
       "      <td>Padang</td>\n",
       "      <td>2</td>\n",
       "    </tr>\n",
       "    <tr>\n",
       "      <th>12</th>\n",
       "      <td>Beef</td>\n",
       "      <td>2</td>\n",
       "    </tr>\n",
       "    <tr>\n",
       "      <th>13</th>\n",
       "      <td>Japanese</td>\n",
       "      <td>2</td>\n",
       "    </tr>\n",
       "    <tr>\n",
       "      <th>14</th>\n",
       "      <td>Specialty Store</td>\n",
       "      <td>2</td>\n",
       "    </tr>\n",
       "    <tr>\n",
       "      <th>15</th>\n",
       "      <td>Snack</td>\n",
       "      <td>2</td>\n",
       "    </tr>\n",
       "    <tr>\n",
       "      <th>16</th>\n",
       "      <td>Bakery &amp; Cake</td>\n",
       "      <td>1</td>\n",
       "    </tr>\n",
       "    <tr>\n",
       "      <th>17</th>\n",
       "      <td>Cemilan</td>\n",
       "      <td>1</td>\n",
       "    </tr>\n",
       "    <tr>\n",
       "      <th>18</th>\n",
       "      <td>Pencuci Mulut</td>\n",
       "      <td>1</td>\n",
       "    </tr>\n",
       "    <tr>\n",
       "      <th>19</th>\n",
       "      <td>International</td>\n",
       "      <td>1</td>\n",
       "    </tr>\n",
       "    <tr>\n",
       "      <th>20</th>\n",
       "      <td>Aneka Nasi</td>\n",
       "      <td>1</td>\n",
       "    </tr>\n",
       "    <tr>\n",
       "      <th>21</th>\n",
       "      <td>Convenience Store</td>\n",
       "      <td>1</td>\n",
       "    </tr>\n",
       "    <tr>\n",
       "      <th>22</th>\n",
       "      <td>Dessert</td>\n",
       "      <td>1</td>\n",
       "    </tr>\n",
       "    <tr>\n",
       "      <th>23</th>\n",
       "      <td>Chinese</td>\n",
       "      <td>1</td>\n",
       "    </tr>\n",
       "  </tbody>\n",
       "</table>\n",
       "</div>"
      ],
      "text/plain": [
       "                index  jenis\n",
       "0                Rice     24\n",
       "1              Coffee     11\n",
       "2               Satay      7\n",
       "3           Beverages      7\n",
       "4             Chicken      6\n",
       "5        Bakso & Soto      6\n",
       "6          Indonesian      5\n",
       "7           Breakfast      5\n",
       "8             Noodles      3\n",
       "9             Seafood      2\n",
       "10          Fast Food      2\n",
       "11             Padang      2\n",
       "12               Beef      2\n",
       "13           Japanese      2\n",
       "14    Specialty Store      2\n",
       "15              Snack      2\n",
       "16      Bakery & Cake      1\n",
       "17            Cemilan      1\n",
       "18      Pencuci Mulut      1\n",
       "19      International      1\n",
       "20         Aneka Nasi      1\n",
       "21  Convenience Store      1\n",
       "22            Dessert      1\n",
       "23            Chinese      1"
      ]
     },
     "execution_count": 129,
     "metadata": {},
     "output_type": "execute_result"
    }
   ],
   "source": [
    "resto['jenis'].value_counts().reset_index()"
   ]
  },
  {
   "cell_type": "code",
   "execution_count": null,
   "metadata": {},
   "outputs": [],
   "source": []
  }
 ],
 "metadata": {
  "kernelspec": {
   "display_name": "Python 3",
   "language": "python",
   "name": "python3"
  },
  "language_info": {
   "codemirror_mode": {
    "name": "ipython",
    "version": 3
   },
   "file_extension": ".py",
   "mimetype": "text/x-python",
   "name": "python",
   "nbconvert_exporter": "python",
   "pygments_lexer": "ipython3",
   "version": "3.8.5"
  }
 },
 "nbformat": 4,
 "nbformat_minor": 5
}
